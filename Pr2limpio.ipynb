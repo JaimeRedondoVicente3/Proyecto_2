{
 "cells": [
  {
   "cell_type": "markdown",
   "metadata": {},
   "source": [
    "# Proyecto 2\n",
    "\n",
    "### Evolución anual de los precios de alquiler en Barcelona"
   ]
  },
  {
   "cell_type": "markdown",
   "metadata": {},
   "source": [
    "## Librerías y más librerías"
   ]
  },
  {
   "cell_type": "code",
   "execution_count": 1,
   "metadata": {},
   "outputs": [],
   "source": [
    "import numpy as np\n",
    "import pandas as pd\n",
    "import seaborn as sns\n",
    "sns.set()\n",
    "import matplotlib.pyplot as plt\n",
    "\n",
    "import os\n",
    "import json\n",
    "import warnings\n",
    "warnings.simplefilter(action='ignore', category=FutureWarning)"
   ]
  },
  {
   "cell_type": "code",
   "execution_count": 2,
   "metadata": {},
   "outputs": [],
   "source": [
    "import folium\n",
    "from folium.plugins import FastMarkerCluster"
   ]
  },
  {
   "cell_type": "code",
   "execution_count": 3,
   "metadata": {},
   "outputs": [
    {
     "data": {
      "text/html": [
       "        <script type=\"text/javascript\">\n",
       "        window.PlotlyConfig = {MathJaxConfig: 'local'};\n",
       "        if (window.MathJax && window.MathJax.Hub && window.MathJax.Hub.Config) {window.MathJax.Hub.Config({SVG: {font: \"STIX-Web\"}});}\n",
       "        if (typeof require !== 'undefined') {\n",
       "        require.undef(\"plotly\");\n",
       "        requirejs.config({\n",
       "            paths: {\n",
       "                'plotly': ['https://cdn.plot.ly/plotly-2.32.0.min']\n",
       "            }\n",
       "        });\n",
       "        require(['plotly'], function(Plotly) {\n",
       "            window._Plotly = Plotly;\n",
       "        });\n",
       "        }\n",
       "        </script>\n",
       "        "
      ]
     },
     "metadata": {},
     "output_type": "display_data"
    },
    {
     "data": {
      "text/html": [
       "        <script type=\"text/javascript\">\n",
       "        window.PlotlyConfig = {MathJaxConfig: 'local'};\n",
       "        if (window.MathJax && window.MathJax.Hub && window.MathJax.Hub.Config) {window.MathJax.Hub.Config({SVG: {font: \"STIX-Web\"}});}\n",
       "        if (typeof require !== 'undefined') {\n",
       "        require.undef(\"plotly\");\n",
       "        requirejs.config({\n",
       "            paths: {\n",
       "                'plotly': ['https://cdn.plot.ly/plotly-2.32.0.min']\n",
       "            }\n",
       "        });\n",
       "        require(['plotly'], function(Plotly) {\n",
       "            window._Plotly = Plotly;\n",
       "        });\n",
       "        }\n",
       "        </script>\n",
       "        "
      ]
     },
     "metadata": {},
     "output_type": "display_data"
    },
    {
     "data": {
      "text/html": [
       "        <script type=\"text/javascript\">\n",
       "        window.PlotlyConfig = {MathJaxConfig: 'local'};\n",
       "        if (window.MathJax && window.MathJax.Hub && window.MathJax.Hub.Config) {window.MathJax.Hub.Config({SVG: {font: \"STIX-Web\"}});}\n",
       "        if (typeof require !== 'undefined') {\n",
       "        require.undef(\"plotly\");\n",
       "        requirejs.config({\n",
       "            paths: {\n",
       "                'plotly': ['https://cdn.plot.ly/plotly-2.32.0.min']\n",
       "            }\n",
       "        });\n",
       "        require(['plotly'], function(Plotly) {\n",
       "            window._Plotly = Plotly;\n",
       "        });\n",
       "        }\n",
       "        </script>\n",
       "        "
      ]
     },
     "metadata": {},
     "output_type": "display_data"
    },
    {
     "data": {
      "text/html": [
       "        <script type=\"text/javascript\">\n",
       "        window.PlotlyConfig = {MathJaxConfig: 'local'};\n",
       "        if (window.MathJax && window.MathJax.Hub && window.MathJax.Hub.Config) {window.MathJax.Hub.Config({SVG: {font: \"STIX-Web\"}});}\n",
       "        if (typeof require !== 'undefined') {\n",
       "        require.undef(\"plotly\");\n",
       "        requirejs.config({\n",
       "            paths: {\n",
       "                'plotly': ['https://cdn.plot.ly/plotly-2.32.0.min']\n",
       "            }\n",
       "        });\n",
       "        require(['plotly'], function(Plotly) {\n",
       "            window._Plotly = Plotly;\n",
       "        });\n",
       "        }\n",
       "        </script>\n",
       "        "
      ]
     },
     "metadata": {},
     "output_type": "display_data"
    },
    {
     "data": {
      "text/html": [
       "        <script type=\"text/javascript\">\n",
       "        window.PlotlyConfig = {MathJaxConfig: 'local'};\n",
       "        if (window.MathJax && window.MathJax.Hub && window.MathJax.Hub.Config) {window.MathJax.Hub.Config({SVG: {font: \"STIX-Web\"}});}\n",
       "        if (typeof require !== 'undefined') {\n",
       "        require.undef(\"plotly\");\n",
       "        requirejs.config({\n",
       "            paths: {\n",
       "                'plotly': ['https://cdn.plot.ly/plotly-2.32.0.min']\n",
       "            }\n",
       "        });\n",
       "        require(['plotly'], function(Plotly) {\n",
       "            window._Plotly = Plotly;\n",
       "        });\n",
       "        }\n",
       "        </script>\n",
       "        "
      ]
     },
     "metadata": {},
     "output_type": "display_data"
    },
    {
     "data": {
      "text/html": [
       "        <script type=\"text/javascript\">\n",
       "        window.PlotlyConfig = {MathJaxConfig: 'local'};\n",
       "        if (window.MathJax && window.MathJax.Hub && window.MathJax.Hub.Config) {window.MathJax.Hub.Config({SVG: {font: \"STIX-Web\"}});}\n",
       "        if (typeof require !== 'undefined') {\n",
       "        require.undef(\"plotly\");\n",
       "        requirejs.config({\n",
       "            paths: {\n",
       "                'plotly': ['https://cdn.plot.ly/plotly-2.32.0.min']\n",
       "            }\n",
       "        });\n",
       "        require(['plotly'], function(Plotly) {\n",
       "            window._Plotly = Plotly;\n",
       "        });\n",
       "        }\n",
       "        </script>\n",
       "        "
      ]
     },
     "metadata": {},
     "output_type": "display_data"
    },
    {
     "data": {
      "text/html": [
       "        <script type=\"text/javascript\">\n",
       "        window.PlotlyConfig = {MathJaxConfig: 'local'};\n",
       "        if (window.MathJax && window.MathJax.Hub && window.MathJax.Hub.Config) {window.MathJax.Hub.Config({SVG: {font: \"STIX-Web\"}});}\n",
       "        if (typeof require !== 'undefined') {\n",
       "        require.undef(\"plotly\");\n",
       "        requirejs.config({\n",
       "            paths: {\n",
       "                'plotly': ['https://cdn.plot.ly/plotly-2.32.0.min']\n",
       "            }\n",
       "        });\n",
       "        require(['plotly'], function(Plotly) {\n",
       "            window._Plotly = Plotly;\n",
       "        });\n",
       "        }\n",
       "        </script>\n",
       "        "
      ]
     },
     "metadata": {},
     "output_type": "display_data"
    },
    {
     "data": {
      "text/html": [
       "        <script type=\"text/javascript\">\n",
       "        window.PlotlyConfig = {MathJaxConfig: 'local'};\n",
       "        if (window.MathJax && window.MathJax.Hub && window.MathJax.Hub.Config) {window.MathJax.Hub.Config({SVG: {font: \"STIX-Web\"}});}\n",
       "        if (typeof require !== 'undefined') {\n",
       "        require.undef(\"plotly\");\n",
       "        requirejs.config({\n",
       "            paths: {\n",
       "                'plotly': ['https://cdn.plot.ly/plotly-2.32.0.min']\n",
       "            }\n",
       "        });\n",
       "        require(['plotly'], function(Plotly) {\n",
       "            window._Plotly = Plotly;\n",
       "        });\n",
       "        }\n",
       "        </script>\n",
       "        "
      ]
     },
     "metadata": {},
     "output_type": "display_data"
    }
   ],
   "source": [
    "#to make the plotly graphs\n",
    "import plotly.graph_objs as go\n",
    "import chart_studio.plotly as py\n",
    "from plotly.offline import iplot, init_notebook_mode\n",
    "import cufflinks\n",
    "cufflinks.go_offline(connected=True)\n",
    "init_notebook_mode(connected=True)\n",
    "\n",
    "#text mining\n",
    "from nltk.tokenize import word_tokenize\n",
    "from nltk.corpus import stopwords\n",
    "import re\n",
    "from sklearn.feature_extraction.text import TfidfVectorizer, CountVectorizer\n",
    "from wordcloud import WordCloud\n",
    "\n",
    "\n",
    "import plotly.graph_objs as go\n",
    "import chart_studio.plotly as py\n",
    "from plotly.offline import iplot, init_notebook_mode\n",
    "import cufflinks\n",
    "cufflinks.go_offline(connected=True)\n",
    "init_notebook_mode(connected=True)#to make the plotly graphs\n",
    "import plotly.graph_objs as go\n",
    "import chart_studio.plotly as py\n",
    "from plotly.offline import iplot, init_notebook_mode\n",
    "import cufflinks\n",
    "cufflinks.go_offline(connected=True)\n",
    "init_notebook_mode(connected=True)\n",
    "\n",
    "#text mining\n",
    "from nltk.tokenize import word_tokenize\n",
    "from nltk.corpus import stopwords\n",
    "import re\n",
    "from sklearn.feature_extraction.text import TfidfVectorizer, CountVectorizer\n",
    "from wordcloud import WordCloud\n",
    "\n",
    "\n",
    "import plotly.graph_objs as go\n",
    "import chart_studio.plotly as py\n",
    "from plotly.offline import iplot, init_notebook_mode\n",
    "import cufflinks\n",
    "cufflinks.go_offline(connected=True)\n",
    "init_notebook_mode(connected=True)"
   ]
  },
  {
   "cell_type": "markdown",
   "metadata": {},
   "source": [
    "## Importar datos"
   ]
  },
  {
   "cell_type": "markdown",
   "metadata": {},
   "source": [
    "listings contien datos básicos de las propiedades anunciadas en AirBnB en barcelona -- ver colummns --."
   ]
  },
  {
   "cell_type": "code",
   "execution_count": 4,
   "metadata": {},
   "outputs": [],
   "source": [
    "listings_path = r\"C:\\Users\\34699\\OneDrive\\Escritorio\\bootcamp\\Modulo2\\Proyecto2\\listings.csv\"\n",
    "listings = pd.read_csv(listings_path, index_col=\"id\")"
   ]
  },
  {
   "cell_type": "code",
   "execution_count": null,
   "metadata": {},
   "outputs": [],
   "source": [
    "listings.columns"
   ]
  },
  {
   "cell_type": "markdown",
   "metadata": {},
   "source": [
    "Muchos más datos de las propiedades. Elegir los convenientes."
   ]
  },
  {
   "cell_type": "code",
   "execution_count": 5,
   "metadata": {},
   "outputs": [],
   "source": [
    "listings_data_path = r\"C:\\Users\\34699\\OneDrive\\Escritorio\\bootcamp\\Modulo2\\Proyecto2\\listings_data.csv\"\n",
    "listings_details = pd.read_csv(listings_data_path, index_col=\"id\", low_memory=False)"
   ]
  },
  {
   "cell_type": "code",
   "execution_count": null,
   "metadata": {},
   "outputs": [],
   "source": [
    "listings_details.columns"
   ]
  },
  {
   "cell_type": "markdown",
   "metadata": {},
   "source": [
    "Traemos a listings el dato de la cantidad de personas que puede alojar cada vivienda en alquiler."
   ]
  },
  {
   "cell_type": "code",
   "execution_count": 6,
   "metadata": {},
   "outputs": [
    {
     "name": "stdout",
     "output_type": "stream",
     "text": [
      "<class 'pandas.core.frame.DataFrame'>\n",
      "Index: 17230 entries, 18674 to 909387630966968007\n",
      "Data columns (total 18 columns):\n",
      " #   Column                          Non-Null Count  Dtype  \n",
      "---  ------                          --------------  -----  \n",
      " 0   name                            17230 non-null  object \n",
      " 1   host_id                         17230 non-null  int64  \n",
      " 2   host_name                       17228 non-null  object \n",
      " 3   neighbourhood_group             17230 non-null  object \n",
      " 4   neighbourhood                   17230 non-null  object \n",
      " 5   latitude                        17230 non-null  float64\n",
      " 6   longitude                       17230 non-null  float64\n",
      " 7   room_type                       17230 non-null  object \n",
      " 8   price                           17230 non-null  int64  \n",
      " 9   minimum_nights                  17230 non-null  int64  \n",
      " 10  number_of_reviews               17230 non-null  int64  \n",
      " 11  last_review                     13198 non-null  object \n",
      " 12  reviews_per_month               13198 non-null  float64\n",
      " 13  calculated_host_listings_count  17230 non-null  int64  \n",
      " 14  availability_365                17230 non-null  int64  \n",
      " 15  number_of_reviews_ltm           17230 non-null  int64  \n",
      " 16  license                         8862 non-null   object \n",
      " 17  accommodates                    17230 non-null  int64  \n",
      "dtypes: float64(3), int64(8), object(7)\n",
      "memory usage: 2.5+ MB\n"
     ]
    }
   ],
   "source": [
    "target_columns = [\"accommodates\"]\n",
    "listings = pd.merge(listings, listings_details[target_columns], on='id', how='left')\n",
    "listings.info()"
   ]
  },
  {
   "cell_type": "markdown",
   "metadata": {},
   "source": [
    "Importamos calendar. Contiene para cada propiedad el precio al que se anunciaba en cada fecha y su disponibilidad."
   ]
  },
  {
   "cell_type": "code",
   "execution_count": 7,
   "metadata": {},
   "outputs": [],
   "source": [
    "calendar_data_path = r\"C:\\Users\\34699\\OneDrive\\Escritorio\\bootcamp\\Modulo2\\Proyecto2\\calendar_data.csv\"\n",
    "calendar = pd.read_csv(\n",
    "    calendar_data_path,\n",
    "    parse_dates=['date'], # A formato fecha las fechas\n",
    "    index_col=['listing_id'], # Fijamos índice\n",
    "    dtype={'price': 'str'} \n",
    ")"
   ]
  },
  {
   "cell_type": "code",
   "execution_count": 8,
   "metadata": {},
   "outputs": [
    {
     "data": {
      "text/html": [
       "<div>\n",
       "<style scoped>\n",
       "    .dataframe tbody tr th:only-of-type {\n",
       "        vertical-align: middle;\n",
       "    }\n",
       "\n",
       "    .dataframe tbody tr th {\n",
       "        vertical-align: top;\n",
       "    }\n",
       "\n",
       "    .dataframe thead th {\n",
       "        text-align: right;\n",
       "    }\n",
       "</style>\n",
       "<table border=\"1\" class=\"dataframe\">\n",
       "  <thead>\n",
       "    <tr style=\"text-align: right;\">\n",
       "      <th></th>\n",
       "      <th>date</th>\n",
       "      <th>available</th>\n",
       "      <th>price</th>\n",
       "      <th>adjusted_price</th>\n",
       "      <th>minimum_nights</th>\n",
       "      <th>maximum_nights</th>\n",
       "    </tr>\n",
       "    <tr>\n",
       "      <th>listing_id</th>\n",
       "      <th></th>\n",
       "      <th></th>\n",
       "      <th></th>\n",
       "      <th></th>\n",
       "      <th></th>\n",
       "      <th></th>\n",
       "    </tr>\n",
       "  </thead>\n",
       "  <tbody>\n",
       "    <tr>\n",
       "      <th>18674</th>\n",
       "      <td>2023-06-10</td>\n",
       "      <td>f</td>\n",
       "      <td>210.0</td>\n",
       "      <td>$210.00</td>\n",
       "      <td>4.0</td>\n",
       "      <td>1125.0</td>\n",
       "    </tr>\n",
       "    <tr>\n",
       "      <th>18674</th>\n",
       "      <td>2023-06-11</td>\n",
       "      <td>f</td>\n",
       "      <td>210.0</td>\n",
       "      <td>$210.00</td>\n",
       "      <td>4.0</td>\n",
       "      <td>1125.0</td>\n",
       "    </tr>\n",
       "    <tr>\n",
       "      <th>18674</th>\n",
       "      <td>2023-06-12</td>\n",
       "      <td>f</td>\n",
       "      <td>210.0</td>\n",
       "      <td>$210.00</td>\n",
       "      <td>4.0</td>\n",
       "      <td>1125.0</td>\n",
       "    </tr>\n",
       "    <tr>\n",
       "      <th>18674</th>\n",
       "      <td>2023-06-13</td>\n",
       "      <td>f</td>\n",
       "      <td>210.0</td>\n",
       "      <td>$210.00</td>\n",
       "      <td>4.0</td>\n",
       "      <td>1125.0</td>\n",
       "    </tr>\n",
       "    <tr>\n",
       "      <th>18674</th>\n",
       "      <td>2023-06-14</td>\n",
       "      <td>f</td>\n",
       "      <td>210.0</td>\n",
       "      <td>$210.00</td>\n",
       "      <td>2.0</td>\n",
       "      <td>1125.0</td>\n",
       "    </tr>\n",
       "  </tbody>\n",
       "</table>\n",
       "</div>"
      ],
      "text/plain": [
       "                 date available  price adjusted_price  minimum_nights  \\\n",
       "listing_id                                                              \n",
       "18674      2023-06-10         f  210.0        $210.00             4.0   \n",
       "18674      2023-06-11         f  210.0        $210.00             4.0   \n",
       "18674      2023-06-12         f  210.0        $210.00             4.0   \n",
       "18674      2023-06-13         f  210.0        $210.00             4.0   \n",
       "18674      2023-06-14         f  210.0        $210.00             2.0   \n",
       "\n",
       "            maximum_nights  \n",
       "listing_id                  \n",
       "18674               1125.0  \n",
       "18674               1125.0  \n",
       "18674               1125.0  \n",
       "18674               1125.0  \n",
       "18674               1125.0  "
      ]
     },
     "execution_count": 8,
     "metadata": {},
     "output_type": "execute_result"
    }
   ],
   "source": [
    "#Convertir precio a float\n",
    "calendar['price'] = calendar['price'].replace('[\\$,]', '', regex=True).astype(float)\n",
    "calendar.head()"
   ]
  },
  {
   "cell_type": "markdown",
   "metadata": {},
   "source": [
    "Datos de las reseñas de los clientes "
   ]
  },
  {
   "cell_type": "code",
   "execution_count": 9,
   "metadata": {},
   "outputs": [],
   "source": [
    "reviews_data_path = r\"C:\\Users\\34699\\OneDrive\\Escritorio\\bootcamp\\Modulo2\\Proyecto2\\reviews_data.csv\"\n",
    "reviews_details = pd.read_csv(reviews_data_path, parse_dates=['date'])"
   ]
  },
  {
   "cell_type": "code",
   "execution_count": null,
   "metadata": {},
   "outputs": [],
   "source": [
    "reviews_details.head()"
   ]
  },
  {
   "cell_type": "code",
   "execution_count": 10,
   "metadata": {},
   "outputs": [],
   "source": [
    "neighbourhoods_path = r\"C:\\Users\\34699\\OneDrive\\Escritorio\\bootcamp\\Modulo2\\Proyecto2\\neighbourhoods.csv\"\n",
    "neighbourhoods = pd.read_csv(neighbourhoods_path)"
   ]
  },
  {
   "cell_type": "code",
   "execution_count": 11,
   "metadata": {},
   "outputs": [],
   "source": [
    "reviews_path = r\"C:\\Users\\34699\\OneDrive\\Escritorio\\bootcamp\\Modulo2\\Proyecto2\\reviews.csv\"\n",
    "reviews = pd.read_csv(reviews_path)"
   ]
  },
  {
   "cell_type": "code",
   "execution_count": null,
   "metadata": {},
   "outputs": [],
   "source": [
    "#Nube de palabras de las reviews\n",
    "text = \" \".join(comment for comment in reviews_details['comments'].dropna())\n",
    "\n",
    "\n",
    "wordcloud = WordCloud(width=800, height=400, background_color='white').generate(text)\n",
    "plt.figure(figsize=(10, 5))\n",
    "plt.imshow(wordcloud, interpolation='bilinear')\n",
    "plt.axis('off')\n",
    "plt.show()"
   ]
  },
  {
   "cell_type": "code",
   "execution_count": null,
   "metadata": {},
   "outputs": [],
   "source": [
    "lats = listings['latitude'].tolist()\n",
    "lons = listings['longitude'].tolist()\n",
    "\n",
    "locations = list(zip(lats, lons))\n",
    "\n",
    "map1 = folium.Map(location=[41.39631,2.16832], zoom_start=10)\n",
    "\n",
    "FastMarkerCluster(data=locations).add_to(map1)\n",
    "\n",
    "map1.save(\"map1.html\")\n",
    "map1"
   ]
  },
  {
   "cell_type": "code",
   "execution_count": null,
   "metadata": {},
   "outputs": [],
   "source": [
    "desc_1 = listings['neighbourhood_group'].value_counts().sort_values(ascending=True)\n",
    "\n",
    "\n",
    "desc_1.plot.barh(figsize=(10, 8), color='b', width=1)\n",
    "plt.title('Anuncios por barrio', fontsize=20)\n",
    "plt.xlabel('Anuncios', fontsize=12)\n",
    "plt.ylabel('Barrios', fontsize=12)\n",
    "plt.show()"
   ]
  },
  {
   "cell_type": "markdown",
   "metadata": {},
   "source": [
    "Dos nuevas columnas:\n",
    "\n",
    "- Precio_normalizado: El precio de cada anuncio dividido entre su media anual. Mide el valor de la propiedad en el tiempo respecto a sí misma.\n",
    "\n",
    "\n",
    "- Precio_NMt: El precio dividido entre la mediana, si la propiedad estaba disponible (no ocupada), entonces Precio_NMt=0. Misma idea, añadimos si la propiedad estaba disponible no estaba siendo rentabilizada, de ahí Precio_NMt=0."
   ]
  },
  {
   "cell_type": "code",
   "execution_count": 12,
   "metadata": {},
   "outputs": [
    {
     "data": {
      "text/html": [
       "<div>\n",
       "<style scoped>\n",
       "    .dataframe tbody tr th:only-of-type {\n",
       "        vertical-align: middle;\n",
       "    }\n",
       "\n",
       "    .dataframe tbody tr th {\n",
       "        vertical-align: top;\n",
       "    }\n",
       "\n",
       "    .dataframe thead th {\n",
       "        text-align: right;\n",
       "    }\n",
       "</style>\n",
       "<table border=\"1\" class=\"dataframe\">\n",
       "  <thead>\n",
       "    <tr style=\"text-align: right;\">\n",
       "      <th></th>\n",
       "      <th>date</th>\n",
       "      <th>available</th>\n",
       "      <th>price</th>\n",
       "      <th>adjusted_price</th>\n",
       "      <th>minimum_nights</th>\n",
       "      <th>maximum_nights</th>\n",
       "      <th>precio_normalizado</th>\n",
       "      <th>precio_NMt</th>\n",
       "    </tr>\n",
       "    <tr>\n",
       "      <th>listing_id</th>\n",
       "      <th></th>\n",
       "      <th></th>\n",
       "      <th></th>\n",
       "      <th></th>\n",
       "      <th></th>\n",
       "      <th></th>\n",
       "      <th></th>\n",
       "      <th></th>\n",
       "    </tr>\n",
       "  </thead>\n",
       "  <tbody>\n",
       "    <tr>\n",
       "      <th>18674</th>\n",
       "      <td>2023-06-10</td>\n",
       "      <td>f</td>\n",
       "      <td>210.0</td>\n",
       "      <td>$210.00</td>\n",
       "      <td>4.0</td>\n",
       "      <td>1125.0</td>\n",
       "      <td>1.115574</td>\n",
       "      <td>1.160221</td>\n",
       "    </tr>\n",
       "    <tr>\n",
       "      <th>18674</th>\n",
       "      <td>2023-06-11</td>\n",
       "      <td>f</td>\n",
       "      <td>210.0</td>\n",
       "      <td>$210.00</td>\n",
       "      <td>4.0</td>\n",
       "      <td>1125.0</td>\n",
       "      <td>1.115574</td>\n",
       "      <td>1.160221</td>\n",
       "    </tr>\n",
       "    <tr>\n",
       "      <th>18674</th>\n",
       "      <td>2023-06-12</td>\n",
       "      <td>f</td>\n",
       "      <td>210.0</td>\n",
       "      <td>$210.00</td>\n",
       "      <td>4.0</td>\n",
       "      <td>1125.0</td>\n",
       "      <td>1.115574</td>\n",
       "      <td>1.160221</td>\n",
       "    </tr>\n",
       "    <tr>\n",
       "      <th>18674</th>\n",
       "      <td>2023-06-13</td>\n",
       "      <td>f</td>\n",
       "      <td>210.0</td>\n",
       "      <td>$210.00</td>\n",
       "      <td>4.0</td>\n",
       "      <td>1125.0</td>\n",
       "      <td>1.115574</td>\n",
       "      <td>1.160221</td>\n",
       "    </tr>\n",
       "    <tr>\n",
       "      <th>18674</th>\n",
       "      <td>2023-06-14</td>\n",
       "      <td>f</td>\n",
       "      <td>210.0</td>\n",
       "      <td>$210.00</td>\n",
       "      <td>2.0</td>\n",
       "      <td>1125.0</td>\n",
       "      <td>1.115574</td>\n",
       "      <td>1.160221</td>\n",
       "    </tr>\n",
       "  </tbody>\n",
       "</table>\n",
       "</div>"
      ],
      "text/plain": [
       "                 date available  price adjusted_price  minimum_nights  \\\n",
       "listing_id                                                              \n",
       "18674      2023-06-10         f  210.0        $210.00             4.0   \n",
       "18674      2023-06-11         f  210.0        $210.00             4.0   \n",
       "18674      2023-06-12         f  210.0        $210.00             4.0   \n",
       "18674      2023-06-13         f  210.0        $210.00             4.0   \n",
       "18674      2023-06-14         f  210.0        $210.00             2.0   \n",
       "\n",
       "            maximum_nights  precio_normalizado  precio_NMt  \n",
       "listing_id                                                  \n",
       "18674               1125.0            1.115574    1.160221  \n",
       "18674               1125.0            1.115574    1.160221  \n",
       "18674               1125.0            1.115574    1.160221  \n",
       "18674               1125.0            1.115574    1.160221  \n",
       "18674               1125.0            1.115574    1.160221  "
      ]
     },
     "execution_count": 12,
     "metadata": {},
     "output_type": "execute_result"
    }
   ],
   "source": [
    "import pandas as pd\n",
    "\n",
    "# Primero, calculamos el precio medio y mediano por listing_id\n",
    "precio_medio = calendar.groupby('listing_id')['price'].mean()\n",
    "precio_mediano = calendar.groupby('listing_id')['price'].median()\n",
    "# Añadimos nuevas columna \n",
    "calendar['precio_medio'] = calendar.index.map(precio_medio)\n",
    "calendar['precio_mediano'] = calendar.index.map(precio_mediano)\n",
    "\n",
    "# Calculamos la columna 'precio_normalizado'\n",
    "calendar['precio_normalizado'] = calendar['price'] / calendar['precio_medio']\n",
    "\n",
    "# Definimos la función para asignar cero si 'available' es 't'\n",
    "def asignar_valor(row):\n",
    "    if row['available'] == 't':\n",
    "        return 0\n",
    "    else:\n",
    "        return row['price'] / row['precio_mediano']\n",
    "\n",
    "# Aplicamos la función a la columna 'price' para crear 'precio_NM'\n",
    "calendar['precio_NMt'] = calendar.apply(asignar_valor, axis=1)\n",
    "\n",
    "# Eliminamos la columna temporal 'precio_medio' y 'precio_mediano' si ya no son necesarias\n",
    "calendar.drop(columns=['precio_medio', 'precio_mediano'], inplace=True)\n",
    "\n",
    "# Ver resultados\n",
    "calendar.head()\n",
    "\n"
   ]
  },
  {
   "cell_type": "code",
   "execution_count": null,
   "metadata": {},
   "outputs": [],
   "source": [
    "freq = listings['room_type'].value_counts().sort_values(ascending=True)\n",
    "freq.plot.barh(figsize=(15, 3), width=1, color=[\"g\", \"b\", \"r\"])\n",
    "plt.xlabel('Frecuencia')\n",
    "plt.ylabel('Tipo de Habitación')\n",
    "plt.title('Frecuencia de Tipos de Habitación en Listings')\n",
    "plt.show()"
   ]
  },
  {
   "cell_type": "code",
   "execution_count": null,
   "metadata": {},
   "outputs": [],
   "source": [
    "feq = listings_details['accommodates'].value_counts().sort_index()\n",
    "feq.plot.bar(figsize=(10, 8), color='b', width=1, rot=0)\n",
    "plt.title(\"Número de ocupantes\", fontsize=20)\n",
    "plt.ylabel('Anuncios', fontsize=12)\n",
    "plt.xlabel('Ocupantes', fontsize=12)\n",
    "plt.savefig(\"accommodates_distribution\")"
   ]
  },
  {
   "cell_type": "markdown",
   "metadata": {},
   "source": [
    "Nos restringimos a aquellos anuncios cuyo precio varía en el tiempo. Son los que nos interesan para el estudio a realizar."
   ]
  },
  {
   "cell_type": "code",
   "execution_count": 13,
   "metadata": {},
   "outputs": [
    {
     "data": {
      "text/html": [
       "<div>\n",
       "<style scoped>\n",
       "    .dataframe tbody tr th:only-of-type {\n",
       "        vertical-align: middle;\n",
       "    }\n",
       "\n",
       "    .dataframe tbody tr th {\n",
       "        vertical-align: top;\n",
       "    }\n",
       "\n",
       "    .dataframe thead th {\n",
       "        text-align: right;\n",
       "    }\n",
       "</style>\n",
       "<table border=\"1\" class=\"dataframe\">\n",
       "  <thead>\n",
       "    <tr style=\"text-align: right;\">\n",
       "      <th></th>\n",
       "      <th>date</th>\n",
       "      <th>available</th>\n",
       "      <th>price</th>\n",
       "      <th>adjusted_price</th>\n",
       "      <th>minimum_nights</th>\n",
       "      <th>maximum_nights</th>\n",
       "      <th>precio_normalizado</th>\n",
       "      <th>precio_NMt</th>\n",
       "    </tr>\n",
       "    <tr>\n",
       "      <th>listing_id</th>\n",
       "      <th></th>\n",
       "      <th></th>\n",
       "      <th></th>\n",
       "      <th></th>\n",
       "      <th></th>\n",
       "      <th></th>\n",
       "      <th></th>\n",
       "      <th></th>\n",
       "    </tr>\n",
       "  </thead>\n",
       "  <tbody>\n",
       "    <tr>\n",
       "      <th>18674</th>\n",
       "      <td>2023-06-10</td>\n",
       "      <td>f</td>\n",
       "      <td>210.0</td>\n",
       "      <td>$210.00</td>\n",
       "      <td>4.0</td>\n",
       "      <td>1125.0</td>\n",
       "      <td>1.115574</td>\n",
       "      <td>1.160221</td>\n",
       "    </tr>\n",
       "    <tr>\n",
       "      <th>18674</th>\n",
       "      <td>2023-06-11</td>\n",
       "      <td>f</td>\n",
       "      <td>210.0</td>\n",
       "      <td>$210.00</td>\n",
       "      <td>4.0</td>\n",
       "      <td>1125.0</td>\n",
       "      <td>1.115574</td>\n",
       "      <td>1.160221</td>\n",
       "    </tr>\n",
       "    <tr>\n",
       "      <th>18674</th>\n",
       "      <td>2023-06-12</td>\n",
       "      <td>f</td>\n",
       "      <td>210.0</td>\n",
       "      <td>$210.00</td>\n",
       "      <td>4.0</td>\n",
       "      <td>1125.0</td>\n",
       "      <td>1.115574</td>\n",
       "      <td>1.160221</td>\n",
       "    </tr>\n",
       "    <tr>\n",
       "      <th>18674</th>\n",
       "      <td>2023-06-13</td>\n",
       "      <td>f</td>\n",
       "      <td>210.0</td>\n",
       "      <td>$210.00</td>\n",
       "      <td>4.0</td>\n",
       "      <td>1125.0</td>\n",
       "      <td>1.115574</td>\n",
       "      <td>1.160221</td>\n",
       "    </tr>\n",
       "    <tr>\n",
       "      <th>18674</th>\n",
       "      <td>2023-06-14</td>\n",
       "      <td>f</td>\n",
       "      <td>210.0</td>\n",
       "      <td>$210.00</td>\n",
       "      <td>2.0</td>\n",
       "      <td>1125.0</td>\n",
       "      <td>1.115574</td>\n",
       "      <td>1.160221</td>\n",
       "    </tr>\n",
       "  </tbody>\n",
       "</table>\n",
       "</div>"
      ],
      "text/plain": [
       "                 date available  price adjusted_price  minimum_nights  \\\n",
       "listing_id                                                              \n",
       "18674      2023-06-10         f  210.0        $210.00             4.0   \n",
       "18674      2023-06-11         f  210.0        $210.00             4.0   \n",
       "18674      2023-06-12         f  210.0        $210.00             4.0   \n",
       "18674      2023-06-13         f  210.0        $210.00             4.0   \n",
       "18674      2023-06-14         f  210.0        $210.00             2.0   \n",
       "\n",
       "            maximum_nights  precio_normalizado  precio_NMt  \n",
       "listing_id                                                  \n",
       "18674               1125.0            1.115574    1.160221  \n",
       "18674               1125.0            1.115574    1.160221  \n",
       "18674               1125.0            1.115574    1.160221  \n",
       "18674               1125.0            1.115574    1.160221  \n",
       "18674               1125.0            1.115574    1.160221  "
      ]
     },
     "execution_count": 13,
     "metadata": {},
     "output_type": "execute_result"
    }
   ],
   "source": [
    "# Suponiendo que calendar es tu DataFrame original\n",
    "\n",
    "# Paso 1: Identificar los listing_id que tienen variaciones en el precio\n",
    "# Agrupamos por listing_id y chequeamos la variación en los precios\n",
    "listing_ids_con_variacion = calendar.groupby('listing_id')['price'].nunique()\n",
    "listing_ids_con_variacion = listing_ids_con_variacion[listing_ids_con_variacion > 1].index\n",
    "\n",
    "# Paso 2: Filtrar el DataFrame original para incluir solo estos listing_id\n",
    "cal_var = calendar[calendar.index.isin(listing_ids_con_variacion)]\n",
    "\n",
    "# Verifica los resultados\n",
    "cal_var.head()\n"
   ]
  },
  {
   "cell_type": "markdown",
   "metadata": {},
   "source": [
    "La columna 'fecha_numerica' es cómoda para el manejo del dato fecha. Toma valor 0 en el primer dia de los datos y sucesivamente 1,2,3,..."
   ]
  },
  {
   "cell_type": "code",
   "execution_count": 14,
   "metadata": {},
   "outputs": [
    {
     "data": {
      "text/html": [
       "<div>\n",
       "<style scoped>\n",
       "    .dataframe tbody tr th:only-of-type {\n",
       "        vertical-align: middle;\n",
       "    }\n",
       "\n",
       "    .dataframe tbody tr th {\n",
       "        vertical-align: top;\n",
       "    }\n",
       "\n",
       "    .dataframe thead th {\n",
       "        text-align: right;\n",
       "    }\n",
       "</style>\n",
       "<table border=\"1\" class=\"dataframe\">\n",
       "  <thead>\n",
       "    <tr style=\"text-align: right;\">\n",
       "      <th></th>\n",
       "      <th>date</th>\n",
       "      <th>available</th>\n",
       "      <th>price</th>\n",
       "      <th>adjusted_price</th>\n",
       "      <th>minimum_nights</th>\n",
       "      <th>maximum_nights</th>\n",
       "      <th>precio_normalizado</th>\n",
       "      <th>precio_NMt</th>\n",
       "      <th>fecha_numerica</th>\n",
       "    </tr>\n",
       "    <tr>\n",
       "      <th>listing_id</th>\n",
       "      <th></th>\n",
       "      <th></th>\n",
       "      <th></th>\n",
       "      <th></th>\n",
       "      <th></th>\n",
       "      <th></th>\n",
       "      <th></th>\n",
       "      <th></th>\n",
       "      <th></th>\n",
       "    </tr>\n",
       "  </thead>\n",
       "  <tbody>\n",
       "    <tr>\n",
       "      <th>40983</th>\n",
       "      <td>2024-05-20</td>\n",
       "      <td>f</td>\n",
       "      <td>130.0</td>\n",
       "      <td>$130.00</td>\n",
       "      <td>2.0</td>\n",
       "      <td>364.0</td>\n",
       "      <td>0.991516</td>\n",
       "      <td>1.0</td>\n",
       "      <td>345</td>\n",
       "    </tr>\n",
       "    <tr>\n",
       "      <th>40983</th>\n",
       "      <td>2024-05-21</td>\n",
       "      <td>f</td>\n",
       "      <td>130.0</td>\n",
       "      <td>$130.00</td>\n",
       "      <td>2.0</td>\n",
       "      <td>364.0</td>\n",
       "      <td>0.991516</td>\n",
       "      <td>1.0</td>\n",
       "      <td>346</td>\n",
       "    </tr>\n",
       "    <tr>\n",
       "      <th>40983</th>\n",
       "      <td>2024-05-22</td>\n",
       "      <td>f</td>\n",
       "      <td>130.0</td>\n",
       "      <td>$130.00</td>\n",
       "      <td>2.0</td>\n",
       "      <td>364.0</td>\n",
       "      <td>0.991516</td>\n",
       "      <td>1.0</td>\n",
       "      <td>347</td>\n",
       "    </tr>\n",
       "    <tr>\n",
       "      <th>40983</th>\n",
       "      <td>2024-05-23</td>\n",
       "      <td>f</td>\n",
       "      <td>130.0</td>\n",
       "      <td>$130.00</td>\n",
       "      <td>2.0</td>\n",
       "      <td>364.0</td>\n",
       "      <td>0.991516</td>\n",
       "      <td>1.0</td>\n",
       "      <td>348</td>\n",
       "    </tr>\n",
       "    <tr>\n",
       "      <th>40983</th>\n",
       "      <td>2024-05-24</td>\n",
       "      <td>f</td>\n",
       "      <td>130.0</td>\n",
       "      <td>$130.00</td>\n",
       "      <td>2.0</td>\n",
       "      <td>364.0</td>\n",
       "      <td>0.991516</td>\n",
       "      <td>1.0</td>\n",
       "      <td>349</td>\n",
       "    </tr>\n",
       "    <tr>\n",
       "      <th>40983</th>\n",
       "      <td>2024-05-25</td>\n",
       "      <td>f</td>\n",
       "      <td>130.0</td>\n",
       "      <td>$130.00</td>\n",
       "      <td>2.0</td>\n",
       "      <td>364.0</td>\n",
       "      <td>0.991516</td>\n",
       "      <td>1.0</td>\n",
       "      <td>350</td>\n",
       "    </tr>\n",
       "    <tr>\n",
       "      <th>40983</th>\n",
       "      <td>2024-05-26</td>\n",
       "      <td>f</td>\n",
       "      <td>130.0</td>\n",
       "      <td>$130.00</td>\n",
       "      <td>2.0</td>\n",
       "      <td>364.0</td>\n",
       "      <td>0.991516</td>\n",
       "      <td>1.0</td>\n",
       "      <td>351</td>\n",
       "    </tr>\n",
       "    <tr>\n",
       "      <th>40983</th>\n",
       "      <td>2024-05-27</td>\n",
       "      <td>f</td>\n",
       "      <td>130.0</td>\n",
       "      <td>$130.00</td>\n",
       "      <td>2.0</td>\n",
       "      <td>364.0</td>\n",
       "      <td>0.991516</td>\n",
       "      <td>1.0</td>\n",
       "      <td>352</td>\n",
       "    </tr>\n",
       "    <tr>\n",
       "      <th>40983</th>\n",
       "      <td>2024-05-28</td>\n",
       "      <td>f</td>\n",
       "      <td>130.0</td>\n",
       "      <td>$130.00</td>\n",
       "      <td>2.0</td>\n",
       "      <td>364.0</td>\n",
       "      <td>0.991516</td>\n",
       "      <td>1.0</td>\n",
       "      <td>353</td>\n",
       "    </tr>\n",
       "    <tr>\n",
       "      <th>40983</th>\n",
       "      <td>2024-05-29</td>\n",
       "      <td>f</td>\n",
       "      <td>130.0</td>\n",
       "      <td>$130.00</td>\n",
       "      <td>2.0</td>\n",
       "      <td>364.0</td>\n",
       "      <td>0.991516</td>\n",
       "      <td>1.0</td>\n",
       "      <td>354</td>\n",
       "    </tr>\n",
       "    <tr>\n",
       "      <th>40983</th>\n",
       "      <td>2024-05-30</td>\n",
       "      <td>f</td>\n",
       "      <td>130.0</td>\n",
       "      <td>$130.00</td>\n",
       "      <td>2.0</td>\n",
       "      <td>364.0</td>\n",
       "      <td>0.991516</td>\n",
       "      <td>1.0</td>\n",
       "      <td>355</td>\n",
       "    </tr>\n",
       "    <tr>\n",
       "      <th>40983</th>\n",
       "      <td>2024-05-31</td>\n",
       "      <td>f</td>\n",
       "      <td>130.0</td>\n",
       "      <td>$130.00</td>\n",
       "      <td>2.0</td>\n",
       "      <td>364.0</td>\n",
       "      <td>0.991516</td>\n",
       "      <td>1.0</td>\n",
       "      <td>356</td>\n",
       "    </tr>\n",
       "    <tr>\n",
       "      <th>40983</th>\n",
       "      <td>2024-06-01</td>\n",
       "      <td>f</td>\n",
       "      <td>130.0</td>\n",
       "      <td>$130.00</td>\n",
       "      <td>2.0</td>\n",
       "      <td>364.0</td>\n",
       "      <td>0.991516</td>\n",
       "      <td>1.0</td>\n",
       "      <td>357</td>\n",
       "    </tr>\n",
       "    <tr>\n",
       "      <th>40983</th>\n",
       "      <td>2024-06-02</td>\n",
       "      <td>f</td>\n",
       "      <td>130.0</td>\n",
       "      <td>$130.00</td>\n",
       "      <td>2.0</td>\n",
       "      <td>364.0</td>\n",
       "      <td>0.991516</td>\n",
       "      <td>1.0</td>\n",
       "      <td>358</td>\n",
       "    </tr>\n",
       "    <tr>\n",
       "      <th>40983</th>\n",
       "      <td>2024-06-03</td>\n",
       "      <td>f</td>\n",
       "      <td>130.0</td>\n",
       "      <td>$130.00</td>\n",
       "      <td>2.0</td>\n",
       "      <td>364.0</td>\n",
       "      <td>0.991516</td>\n",
       "      <td>1.0</td>\n",
       "      <td>359</td>\n",
       "    </tr>\n",
       "    <tr>\n",
       "      <th>40983</th>\n",
       "      <td>2024-06-04</td>\n",
       "      <td>f</td>\n",
       "      <td>130.0</td>\n",
       "      <td>$130.00</td>\n",
       "      <td>2.0</td>\n",
       "      <td>364.0</td>\n",
       "      <td>0.991516</td>\n",
       "      <td>1.0</td>\n",
       "      <td>360</td>\n",
       "    </tr>\n",
       "    <tr>\n",
       "      <th>40983</th>\n",
       "      <td>2024-06-05</td>\n",
       "      <td>f</td>\n",
       "      <td>130.0</td>\n",
       "      <td>$130.00</td>\n",
       "      <td>2.0</td>\n",
       "      <td>364.0</td>\n",
       "      <td>0.991516</td>\n",
       "      <td>1.0</td>\n",
       "      <td>361</td>\n",
       "    </tr>\n",
       "    <tr>\n",
       "      <th>40983</th>\n",
       "      <td>2024-06-06</td>\n",
       "      <td>f</td>\n",
       "      <td>130.0</td>\n",
       "      <td>$130.00</td>\n",
       "      <td>2.0</td>\n",
       "      <td>364.0</td>\n",
       "      <td>0.991516</td>\n",
       "      <td>1.0</td>\n",
       "      <td>362</td>\n",
       "    </tr>\n",
       "    <tr>\n",
       "      <th>40983</th>\n",
       "      <td>2024-06-07</td>\n",
       "      <td>f</td>\n",
       "      <td>130.0</td>\n",
       "      <td>$130.00</td>\n",
       "      <td>2.0</td>\n",
       "      <td>364.0</td>\n",
       "      <td>0.991516</td>\n",
       "      <td>1.0</td>\n",
       "      <td>363</td>\n",
       "    </tr>\n",
       "    <tr>\n",
       "      <th>40983</th>\n",
       "      <td>2024-06-08</td>\n",
       "      <td>f</td>\n",
       "      <td>130.0</td>\n",
       "      <td>$130.00</td>\n",
       "      <td>2.0</td>\n",
       "      <td>364.0</td>\n",
       "      <td>0.991516</td>\n",
       "      <td>1.0</td>\n",
       "      <td>364</td>\n",
       "    </tr>\n",
       "  </tbody>\n",
       "</table>\n",
       "</div>"
      ],
      "text/plain": [
       "                 date available  price adjusted_price  minimum_nights  \\\n",
       "listing_id                                                              \n",
       "40983      2024-05-20         f  130.0        $130.00             2.0   \n",
       "40983      2024-05-21         f  130.0        $130.00             2.0   \n",
       "40983      2024-05-22         f  130.0        $130.00             2.0   \n",
       "40983      2024-05-23         f  130.0        $130.00             2.0   \n",
       "40983      2024-05-24         f  130.0        $130.00             2.0   \n",
       "40983      2024-05-25         f  130.0        $130.00             2.0   \n",
       "40983      2024-05-26         f  130.0        $130.00             2.0   \n",
       "40983      2024-05-27         f  130.0        $130.00             2.0   \n",
       "40983      2024-05-28         f  130.0        $130.00             2.0   \n",
       "40983      2024-05-29         f  130.0        $130.00             2.0   \n",
       "40983      2024-05-30         f  130.0        $130.00             2.0   \n",
       "40983      2024-05-31         f  130.0        $130.00             2.0   \n",
       "40983      2024-06-01         f  130.0        $130.00             2.0   \n",
       "40983      2024-06-02         f  130.0        $130.00             2.0   \n",
       "40983      2024-06-03         f  130.0        $130.00             2.0   \n",
       "40983      2024-06-04         f  130.0        $130.00             2.0   \n",
       "40983      2024-06-05         f  130.0        $130.00             2.0   \n",
       "40983      2024-06-06         f  130.0        $130.00             2.0   \n",
       "40983      2024-06-07         f  130.0        $130.00             2.0   \n",
       "40983      2024-06-08         f  130.0        $130.00             2.0   \n",
       "\n",
       "            maximum_nights  precio_normalizado  precio_NMt  fecha_numerica  \n",
       "listing_id                                                                  \n",
       "40983                364.0            0.991516         1.0             345  \n",
       "40983                364.0            0.991516         1.0             346  \n",
       "40983                364.0            0.991516         1.0             347  \n",
       "40983                364.0            0.991516         1.0             348  \n",
       "40983                364.0            0.991516         1.0             349  \n",
       "40983                364.0            0.991516         1.0             350  \n",
       "40983                364.0            0.991516         1.0             351  \n",
       "40983                364.0            0.991516         1.0             352  \n",
       "40983                364.0            0.991516         1.0             353  \n",
       "40983                364.0            0.991516         1.0             354  \n",
       "40983                364.0            0.991516         1.0             355  \n",
       "40983                364.0            0.991516         1.0             356  \n",
       "40983                364.0            0.991516         1.0             357  \n",
       "40983                364.0            0.991516         1.0             358  \n",
       "40983                364.0            0.991516         1.0             359  \n",
       "40983                364.0            0.991516         1.0             360  \n",
       "40983                364.0            0.991516         1.0             361  \n",
       "40983                364.0            0.991516         1.0             362  \n",
       "40983                364.0            0.991516         1.0             363  \n",
       "40983                364.0            0.991516         1.0             364  "
      ]
     },
     "execution_count": 14,
     "metadata": {},
     "output_type": "execute_result"
    }
   ],
   "source": [
    "cal_var['date'] = pd.to_datetime(cal_var['date'])\n",
    "fecha_minima = cal_var['date'].min()\n",
    "\n",
    "cal_var['fecha_numerica'] = (cal_var['date'] - fecha_minima).dt.days\n",
    "\n",
    "cal_var.tail(20)"
   ]
  },
  {
   "cell_type": "markdown",
   "metadata": {},
   "source": [
    "Breve análisis de la variación temporal del precio de una propiedad concreta cualquiera."
   ]
  },
  {
   "cell_type": "code",
   "execution_count": 15,
   "metadata": {},
   "outputs": [],
   "source": [
    "df2 = cal_var.loc[cal_var.index == 18674]"
   ]
  },
  {
   "cell_type": "code",
   "execution_count": null,
   "metadata": {},
   "outputs": [],
   "source": [
    "df2.head()"
   ]
  },
  {
   "cell_type": "code",
   "execution_count": 16,
   "metadata": {},
   "outputs": [
    {
     "data": {
      "image/png": "[encoded data removed]",
      "text/plain": [
       "<Figure size 1000x500 with 1 Axes>"
      ]
     },
     "metadata": {},
     "output_type": "display_data"
    }
   ],
   "source": [
    "#date a formato fecha\n",
    "df2['date'] = pd.to_datetime(df2['date'])\n",
    "\n",
    "# Ordenamos por 'date'\n",
    "df2 = df2.sort_values(by='date')\n",
    "\n",
    "# Date a índice\n",
    "df2.set_index('date', inplace=True)\n",
    "\n",
    "plt.figure(figsize=(10, 5))\n",
    "plt.plot(df2.index, df2['price'], label='Precio')\n",
    "\n",
    "# Configurar etiquetas\n",
    "plt.xlabel('Fecha')\n",
    "plt.ylabel('Precio')\n",
    "plt.title('Serie Temporal del Precio')\n",
    "plt.legend()\n",
    "plt.grid(True)\n",
    "\n",
    "plt.xticks(pd.date_range(start=df2.index.min(), end=df2.index.max(), periods=6))\n",
    "\n",
    "plt.gcf().autofmt_xdate()\n",
    "\n",
    "plt.show()"
   ]
  },
  {
   "cell_type": "code",
   "execution_count": 17,
   "metadata": {},
   "outputs": [
    {
     "data": {
      "image/png": "[encoded data removed]",
      "text/plain": [
       "<Figure size 1000x500 with 1 Axes>"
      ]
     },
     "metadata": {},
     "output_type": "display_data"
    }
   ],
   "source": [
    "\n",
    "plt.figure(figsize=(10, 5))\n",
    "plt.plot(df2.index, df2['precio_normalizado'], label='Precio')\n",
    "\n",
    "\n",
    "plt.xlabel('Fecha')\n",
    "plt.ylabel('Precio normalizado')\n",
    "plt.title('Serie Temporal del Precio normalizado')\n",
    "plt.legend()\n",
    "plt.grid(True)\n",
    "\n",
    "plt.xticks(pd.date_range(start=df2.index.min(), end=df2.index.max(), periods=6))\n",
    "\n",
    "plt.gcf().autofmt_xdate()\n",
    "\n",
    "plt.show()"
   ]
  },
  {
   "cell_type": "code",
   "execution_count": 18,
   "metadata": {},
   "outputs": [
    {
     "data": {
      "image/png": "[encoded data removed]",
      "text/plain": [
       "<Figure size 1000x500 with 1 Axes>"
      ]
     },
     "metadata": {},
     "output_type": "display_data"
    }
   ],
   "source": [
    "plt.figure(figsize=(10, 5))\n",
    "plt.plot(df2.index, df2['precio_NMt'], label='Precio')\n",
    "\n",
    "plt.xlabel('Fecha')\n",
    "plt.ylabel('Precio')\n",
    "plt.title('Serie Temporal del Precio_NMt')\n",
    "plt.legend()\n",
    "plt.grid(True)\n",
    "\n",
    "plt.xticks(pd.date_range(start=df2.index.min(), end=df2.index.max(), periods=6))\n",
    "\n",
    "# Rotar las etiquetas del eje x para mejor legibilidad\n",
    "plt.gcf().autofmt_xdate()\n",
    "\n",
    "# Mostrar el gráfico\n",
    "plt.show()"
   ]
  },
  {
   "cell_type": "markdown",
   "metadata": {},
   "source": [
    "Estas funciones suavizan las series. Toman el valor promedio de cada una en un intervalo de tiempo de 90 días centrado en cada día."
   ]
  },
  {
   "cell_type": "code",
   "execution_count": 19,
   "metadata": {},
   "outputs": [],
   "source": [
    "import pandas as pd\n",
    "\n",
    "def pmr(x):\n",
    "    e = 45\n",
    "    return df2[(df2['fecha_numerica'] >= x - e) & (df2['fecha_numerica'] <= x + e)]['price'].mean()\n"
   ]
  },
  {
   "cell_type": "code",
   "execution_count": 20,
   "metadata": {},
   "outputs": [],
   "source": [
    "def pmr_N(x):\n",
    "    e = 45\n",
    "    return df2[(df2['fecha_numerica'] >= x - e) & (df2['fecha_numerica'] <= x + e)]['precio_normalizado'].mean()"
   ]
  },
  {
   "cell_type": "code",
   "execution_count": 21,
   "metadata": {},
   "outputs": [],
   "source": [
    "def pmr_NMt(x):\n",
    "    e = 45\n",
    "    return df2[(df2['fecha_numerica'] >= x - e) & (df2['fecha_numerica'] <= x + e)]['precio_NMt'].mean()"
   ]
  },
  {
   "cell_type": "code",
   "execution_count": null,
   "metadata": {},
   "outputs": [],
   "source": [
    "# Valores de x para los cuales calcular la función suavizante\n",
    "x_values = range(0,365)\n",
    "\n",
    "# Media precios en un rango alrededor de cada valor de x\n",
    "Pmr = [pmr(x) for x in x_values]\n",
    "\n",
    "#Representamos \n",
    "\n",
    "plt.plot(x_values, Pmr, color='red', label='f(x)')\n",
    "\n",
    "plt.show()"
   ]
  },
  {
   "cell_type": "code",
   "execution_count": null,
   "metadata": {},
   "outputs": [],
   "source": [
    "# Valores de x para los cuales calcular la función suavizante\n",
    "x_values = range(0,365)\n",
    "\n",
    "# Media precios normalizados en un rango alrededor de cada valor de x\n",
    "pnmr = [pmr_N(x) for x in x_values]\n",
    "\n",
    "#Representamos\n",
    "\n",
    "plt.plot(x_values, pnmr, color='red', label='f(x)')\n",
    "\n",
    "plt.show()"
   ]
  },
  {
   "cell_type": "code",
   "execution_count": null,
   "metadata": {},
   "outputs": [],
   "source": [
    "# Valores de x para los cuales calcular la función suavizante\n",
    "x_values = range(0,365)\n",
    "\n",
    "# Media precios_NMt en un rango alrededor de cada valor de x\n",
    "Pnmtmr = [pmr_NMt(x) for x in x_values]\n",
    "\n",
    "#Representamos\n",
    "\n",
    "plt.plot(df2.index, Pnmtmr, color='red', label='f(x)')\n",
    "\n",
    "plt.show()"
   ]
  },
  {
   "cell_type": "code",
   "execution_count": 22,
   "metadata": {},
   "outputs": [
    {
     "data": {
      "image/png": "[encoded data removed]",
      "text/plain": [
       "<Figure size 1200x800 with 1 Axes>"
      ]
     },
     "metadata": {},
     "output_type": "display_data"
    },
    {
     "data": {
      "text/plain": [
       "<Figure size 640x480 with 0 Axes>"
      ]
     },
     "metadata": {},
     "output_type": "display_data"
    }
   ],
   "source": [
    "from scipy.interpolate import interp1d\n",
    "\n",
    "\n",
    "x_values = range(0, 365)\n",
    "\n",
    "Pmr = [pmr(x) for x in x_values]  \n",
    "\n",
    "plt.figure(figsize=(12, 8))\n",
    "\n",
    "plt.plot(df2.index, df2['price'], label='Precio', color='blue')\n",
    "\n",
    "plt.plot(df2.index, Pmr, color='red', label='Función Suavizante')\n",
    "plt.xlabel('Fecha')\n",
    "plt.ylabel('Precio')\n",
    "plt.title('Serie Temporal del Precio con Función Suavizante')\n",
    "plt.legend()\n",
    "plt.grid(True)\n",
    "plt.xticks(pd.date_range(start=df2.index.min(), end=df2.index.max(), periods=6))\n",
    "plt.gcf().autofmt_xdate()\n",
    "\n",
    "\n",
    "plt.savefig('serie_temporal_precio_con_suavizante.png', dpi=300)  # dpi ajusta la resolución del gráfico\n",
    "\n",
    "\n",
    "plt.tight_layout()\n",
    "plt.show()\n",
    "plt.savefig('Serie temporal precio medio suavizada.png')"
   ]
  },
  {
   "cell_type": "code",
   "execution_count": 24,
   "metadata": {},
   "outputs": [
    {
     "data": {
      "image/png": "[encoded data removed]",
      "text/plain": [
       "<Figure size 1200x800 with 1 Axes>"
      ]
     },
     "metadata": {},
     "output_type": "display_data"
    }
   ],
   "source": [
    "x_values = range(0, 365)\n",
    "Pnmtmr = [pmr_NMt(x) for x in x_values]  \n",
    "plt.figure(figsize=(12, 8))\n",
    "plt.plot(df2.index, df2['precio_NMt'], label='Precio_NMt', color='blue')\n",
    "plt.plot(df2.index, Pnmtmr, color='red', label='Función Suavizante')\n",
    "plt.xlabel('Fecha')\n",
    "plt.ylabel('Valor')\n",
    "plt.title('Serie Temporal del Precio_NMt y Función Suavizante')\n",
    "plt.legend()\n",
    "plt.grid(True)\n",
    "plt.xticks(pd.date_range(start=df2.index.min(), end=df2.index.max(), periods=6))\n",
    "plt.gcf().autofmt_xdate()\n",
    "\n",
    "plt.savefig('Precio_NMt_y_Suavizante.png')\n",
    "\n",
    "plt.show()"
   ]
  },
  {
   "cell_type": "markdown",
   "metadata": {},
   "source": [
    "Para trastear con cal_var y listings creamos nuevos data sets a modode cortafuegos."
   ]
  },
  {
   "cell_type": "code",
   "execution_count": null,
   "metadata": {},
   "outputs": [],
   "source": [
    "C2=cal_var\n",
    "L2=listings"
   ]
  },
  {
   "cell_type": "code",
   "execution_count": null,
   "metadata": {},
   "outputs": [],
   "source": [
    "C2.reset_index(inplace=True)\n",
    "L2.reset_index(inplace=True)"
   ]
  },
  {
   "cell_type": "markdown",
   "metadata": {},
   "source": [
    "Traemos el número de ocupantes a C2 (cal_var). "
   ]
  },
  {
   "cell_type": "code",
   "execution_count": null,
   "metadata": {},
   "outputs": [],
   "source": [
    "L2 = L2.rename(columns={'id': 'listing_id'})\n",
    "\n",
    "\n",
    "C2 = C2.merge(L2[['listing_id', 'latitude', 'longitude','accommodates']], on='listing_id', how='left')\n"
   ]
  },
  {
   "cell_type": "markdown",
   "metadata": {},
   "source": [
    "Definimos la columna precio por ocupante."
   ]
  },
  {
   "cell_type": "code",
   "execution_count": null,
   "metadata": {},
   "outputs": [],
   "source": [
    "C2['prc_por_acc']=C2['price']/C2['accommodates']"
   ]
  },
  {
   "cell_type": "code",
   "execution_count": null,
   "metadata": {},
   "outputs": [],
   "source": [
    "C2.isnull().sum()"
   ]
  },
  {
   "cell_type": "code",
   "execution_count": null,
   "metadata": {},
   "outputs": [],
   "source": [
    "C2.dropna()"
   ]
  },
  {
   "cell_type": "code",
   "execution_count": null,
   "metadata": {},
   "outputs": [],
   "source": [
    "C2.head()"
   ]
  },
  {
   "cell_type": "markdown",
   "metadata": {},
   "source": [
    "La función haversine mide la distancia mediada sobre la superficie terrestre entre dos puntos dados por latitud y longitud."
   ]
  },
  {
   "cell_type": "code",
   "execution_count": null,
   "metadata": {},
   "outputs": [],
   "source": [
    "import math\n",
    "\n",
    "def haversine(lat1, lon1, lat2, lon2):\n",
    "    # Convertir de grados a radianes\n",
    "    lat1 = math.radians(lat1)\n",
    "    lon1 = math.radians(lon1)\n",
    "    lat2 = math.radians(lat2)\n",
    "    lon2 = math.radians(lon2)\n",
    "    \n",
    "    # Radio de la Tierra en km\n",
    "    r = 6371\n",
    "    \n",
    "    # Diferencias\n",
    "    delta_lat = lat2 - lat1\n",
    "    delta_lon = lon2 - lon1\n",
    "    \n",
    "    # Fórmula de Haversine\n",
    "    a = math.sin(delta_lat / 2)**2 + math.cos(lat1) * math.cos(lat2) * math.sin(delta_lon / 2)**2\n",
    "    c = 2 * math.atan2(math.sqrt(a), math.sqrt(1 - a))\n",
    "    \n",
    "    # Distancia en kilómetros\n",
    "    distance_km = r * c\n",
    "    \n",
    "    # Convertir la distancia a metros\n",
    "    distance_m = distance_km * 1000\n",
    "    \n",
    "    return distance_m\n",
    "\n",
    "# Ejemplo de uso\n",
    "lat1, lon1 = 40.712776, -74.005974  # Nueva York\n",
    "lat2, lon2 = 34.052235, -118.243683  # Los Ángeles\n",
    "\n",
    "distancia = haversine(lat1, lon1, lat2, lon2)\n",
    "print(f\"La distancia es {distancia} metros\")"
   ]
  },
  {
   "cell_type": "markdown",
   "metadata": {},
   "source": [
    "Funciones para medir los promedios de las valoraciones (absoliutas y normalizadas) de las propiedades en un radio de distancia a cada punto en una determinada fecha.  "
   ]
  },
  {
   "cell_type": "code",
   "execution_count": null,
   "metadata": {},
   "outputs": [],
   "source": [
    "def precio_medio_en_radio(latitud, longitud, fecha):\n",
    "    radio = 60 \n",
    "    filtro_fecha = C2[C2['fecha_numerica'] == fecha]\n",
    "    \n",
    "    distancias = filtro_fecha.apply(lambda row: haversine(latitud, longitud, row['latitude'], row['longitude']), axis=1)\n",
    "\n",
    "    anuncios_en_radio = filtro_fecha[distancias < radio]\n",
    "\n",
    "    if anuncios_en_radio.empty:\n",
    "        return 0\n",
    "    else:\n",
    "        precio_medio = anuncios_en_radio['price'].mean()\n",
    "        return precio_medio\n"
   ]
  },
  {
   "cell_type": "code",
   "execution_count": null,
   "metadata": {},
   "outputs": [],
   "source": [
    "def precio_por_acc_medio_en_radio(latitud, longitud, fecha):\n",
    "    radio = 100  # Radio de 100 metros en términos de latitud y longitud (aproximadamente)\n",
    "    filtro_fecha = C2[C2['fecha_numerica'] == fecha]\n",
    "    \n",
    "    distancias = filtro_fecha.apply(lambda row: haversine(latitud, longitud, row['latitude'], row['longitude']), axis=1)\n",
    "\n",
    "    anuncios_en_radio = filtro_fecha[distancias < radio]\n",
    "\n",
    "    if anuncios_en_radio.empty:\n",
    "        return 0\n",
    "    else:\n",
    "        precio_medio = anuncios_en_radio['prc_por_acc'].mean()\n",
    "        return precio_medio"
   ]
  },
  {
   "cell_type": "markdown",
   "metadata": {},
   "source": [
    "Por una cuestión de coste computacional es necesario trabajar con estas funciones; toman el valor promedio en un cuadrado centrado en cada punto."
   ]
  },
  {
   "cell_type": "code",
   "execution_count": null,
   "metadata": {},
   "outputs": [],
   "source": [
    "\n",
    "def precio_medio_en_cuadrado(latitud, longitud, fecha):\n",
    "    radio = 0.001  # Radio de 100 metros en términos de latitud y longitud (aproximadamente)\n",
    "    filtro_fecha = C2[C2['fecha_numerica'] == fecha]\n",
    "\n",
    "    anuncios_en_radio = filtro_fecha[(abs(filtro_fecha['latitude'] - latitud) < radio) & (abs(filtro_fecha['longitude'] - longitud) < radio)]\n",
    "\n",
    "    if anuncios_en_radio.empty:\n",
    "        return 0\n",
    "    else:\n",
    "        precio_medio = anuncios_en_radio['price'].mean()\n",
    "        return precio_medio\n"
   ]
  },
  {
   "cell_type": "code",
   "execution_count": null,
   "metadata": {},
   "outputs": [],
   "source": [
    "def precio_por_acc_medio_en_cuadrado(latitud, longitud, fecha):\n",
    "    radio = 0.001  # Radio de 100 metros en términos de latitud y longitud (aproximadamente)\n",
    "    filtro_fecha = C2[C2['fecha_numerica'] == fecha]\n",
    "    \n",
    "    anuncios_en_radio = filtro_fecha[(abs(filtro_fecha['latitude'] - latitud) < radio) & (abs(filtro_fecha['longitude'] - longitud) < radio)]\n",
    "\n",
    "    if anuncios_en_radio.empty:\n",
    "        return 0\n",
    "    else:\n",
    "        precio_medio = anuncios_en_radio['prc_por_acc'].mean()\n",
    "        return precio_medio"
   ]
  },
  {
   "cell_type": "markdown",
   "metadata": {},
   "source": [
    "Valores de prueba."
   ]
  },
  {
   "cell_type": "code",
   "execution_count": null,
   "metadata": {},
   "outputs": [],
   "source": [
    "precio_medio_en_radio(41.39631,2.16832,0)"
   ]
  },
  {
   "cell_type": "code",
   "execution_count": null,
   "metadata": {},
   "outputs": [],
   "source": [
    "precio_medio_en_cuadrado(41.39631,2.16832,0)"
   ]
  },
  {
   "cell_type": "code",
   "execution_count": null,
   "metadata": {},
   "outputs": [],
   "source": [
    "precio_por_acc_medio_en_radio(41.39631,2.16832,0)"
   ]
  },
  {
   "cell_type": "code",
   "execution_count": null,
   "metadata": {},
   "outputs": [],
   "source": [
    "precio_por_acc_medio_en_cuadrado(41.39631,2.16832,0)"
   ]
  },
  {
   "cell_type": "markdown",
   "metadata": {},
   "source": [
    "\n",
    "Coordenadas del centro de Barcelona:\n",
    "\n",
    "     [41.3851, 2.1734]\n"
   ]
  },
  {
   "cell_type": "markdown",
   "metadata": {},
   "source": [
    "Análogas funciones respecto a precios normalizados."
   ]
  },
  {
   "cell_type": "code",
   "execution_count": null,
   "metadata": {},
   "outputs": [],
   "source": [
    "def precio_N_medio_en_radio(latitud, longitud, fecha):\n",
    "    radio = 100  # Radio de 100 metros en términos de latitud y longitud (aproximadamente)\n",
    "    filtro_fecha = C2[C2['fecha_numerica'] == fecha]\n",
    "\n",
    "    distancias = filtro_fecha.apply(lambda row: haversine(latitud, longitud, row['latitude'], row['longitude']), axis=1)\n",
    "\n",
    "    anuncios_en_radio = filtro_fecha[distancias < radio]\n",
    "\n",
    "    if anuncios_en_radio.empty:\n",
    "        return 0\n",
    "    else:\n",
    "            # Calcular la media ponderada en función de la columna 'price'\n",
    "        precio_medio_N = np.average(anuncios_en_radio['precio_normalizado'], weights=anuncios_en_radio['price'])\n",
    "\n",
    "        return precio_medio_N"
   ]
  },
  {
   "cell_type": "code",
   "execution_count": null,
   "metadata": {},
   "outputs": [],
   "source": [
    "def precio_NMt_medio_en_radio(latitud, longitud, fecha):\n",
    "    radio = 100  # Radio de 100 metros en términos de latitud y longitud (aproximadamente)\n",
    "    filtro_fecha = C2[C2['fecha_numerica'] == fecha]\n",
    "\n",
    "    distancias = filtro_fecha.apply(lambda row: haversine(latitud, longitud, row['latitude'], row['longitude']), axis=1)\n",
    "\n",
    "    anuncios_en_radio = filtro_fecha[distancias < radio]\n",
    "\n",
    "    if anuncios_en_radio.empty:\n",
    "        return 0\n",
    "    else:\n",
    "            # Calcular la media ponderada en función de la columna 'price'\n",
    "        precio_medio_NMt = np.average(anuncios_en_radio['precio_NMt'], weights=anuncios_en_radio['price'])\n",
    "\n",
    "        return precio_medio_NMt"
   ]
  },
  {
   "cell_type": "code",
   "execution_count": null,
   "metadata": {},
   "outputs": [],
   "source": [
    "def precio_N_medio_en_cuadrado(latitud, longitud, fecha):\n",
    "    radio = 0.001  # Radio de 100 metros en términos de latitud y longitud (aproximadamente)\n",
    "    filtro_fecha = C2[C2['fecha_numerica'] == fecha]\n",
    "\n",
    "    anuncios_en_radio = filtro_fecha[(abs(filtro_fecha['latitude'] - latitud) < radio) & (abs(filtro_fecha['longitude'] - longitud) < radio)]\n",
    "\n",
    "    if anuncios_en_radio.empty:\n",
    "        return 0\n",
    "    else:\n",
    "            # Calcular la media ponderada en función de la columna 'price'\n",
    "        precio_medio_N = np.average(anuncios_en_radio['precio_normalizado'], weights=anuncios_en_radio['price'])\n",
    "\n",
    "        return precio_medio_N\n"
   ]
  },
  {
   "cell_type": "code",
   "execution_count": null,
   "metadata": {},
   "outputs": [],
   "source": [
    "def precio_NMt_medio_en_cuadrado(latitud, longitud, fecha):\n",
    "    radio = 0.001  # Radio de 100 metros en términos de latitud y longitud (aproximadamente)\n",
    "    filtro_fecha = C2[C2['fecha_numerica'] == fecha]\n",
    "\n",
    "    anuncios_en_radio = filtro_fecha[(abs(filtro_fecha['latitude'] - latitud) < radio) & (abs(filtro_fecha['longitude'] - longitud) < radio)]\n",
    "\n",
    "    if anuncios_en_radio.empty:\n",
    "        return 0\n",
    "    else:\n",
    "            # Calcular la media ponderada en función de la columna 'price'\n",
    "        precio_medio_NMt = np.average(anuncios_en_radio['precio_NMt'], weights=anuncios_en_radio['price'])\n",
    "\n",
    "        return precio_medio_NMt"
   ]
  },
  {
   "cell_type": "markdown",
   "metadata": {},
   "source": [
    "Valores de prueba."
   ]
  },
  {
   "cell_type": "code",
   "execution_count": null,
   "metadata": {},
   "outputs": [],
   "source": [
    "precio_N_medio_en_radio(41.3851, 2.1734,0)"
   ]
  },
  {
   "cell_type": "code",
   "execution_count": null,
   "metadata": {},
   "outputs": [],
   "source": [
    "precio_NMt_medio_en_radio(41.3851, 2.1734,0)"
   ]
  },
  {
   "cell_type": "code",
   "execution_count": null,
   "metadata": {},
   "outputs": [],
   "source": [
    "precio_N_medio_en_cuadrado(41.3851, 2.1734,0)"
   ]
  },
  {
   "cell_type": "code",
   "execution_count": null,
   "metadata": {},
   "outputs": [],
   "source": [
    "precio_NMt_medio_en_cuadrado(41.3851, 2.1734,0)"
   ]
  },
  {
   "cell_type": "code",
   "execution_count": null,
   "metadata": {},
   "outputs": [],
   "source": [
    "import numpy as np\n",
    "import matplotlib.pyplot as plt\n",
    "\n",
    "# Coordenadas de Barcelona\n",
    "lat_barcelona = 41.3851\n",
    "lon_barcelona = 2.1734\n",
    "\n",
    "# Definir la malla de 30x30 en el cuadrado de 10 km alrededor de Barcelona\n",
    "latitudes = np.linspace(lat_barcelona - 0.06, lat_barcelona + 0.06, 50)\n",
    "longitudes = np.linspace(lon_barcelona - 0.06, lon_barcelona + 0.06, 50)\n",
    "\n",
    "# Crear una matriz para almacenar los valores\n",
    "valores = np.zeros((50, 50))\n",
    "\n",
    "# Calcular el precio medio en radio para cada celda de la malla\n",
    "for i, lat in enumerate(latitudes):\n",
    "    for j, lon in enumerate(longitudes):\n",
    "        valores[i, j] = precio_por_acc_medio_en_radio(lat, lon, 0)\n",
    "\n"
   ]
  },
  {
   "cell_type": "code",
   "execution_count": null,
   "metadata": {},
   "outputs": [],
   "source": [
    "# Crear un mapa de colores de azul a rojo para visualizar los valores con límites personalizados\n",
    "plt.imshow(valores, cmap='coolwarm', interpolation='bicubic', vmin=7, vmax=80)  # Ajusta los límites de color según tus datos\n",
    "plt.colorbar()\n",
    "plt.show()"
   ]
  },
  {
   "cell_type": "code",
   "execution_count": null,
   "metadata": {},
   "outputs": [],
   "source": [
    "# Coordenadas de Barcelona\n",
    "lat_barcelona = 41.3851\n",
    "lon_barcelona = 2.1734\n",
    "# Definir la malla de 30x30 en el cuadrado de 10 km alrededor de Barcelona\n",
    "latitudes = np.linspace(lat_barcelona - 0.06, lat_barcelona + 0.06, 40)\n",
    "longitudes = np.linspace(lon_barcelona - 0.06, lon_barcelona + 0.06, 40)"
   ]
  },
  {
   "cell_type": "code",
   "execution_count": null,
   "metadata": {},
   "outputs": [],
   "source": [
    "import pandas as pd\n",
    "\n",
    "# Crear listas para almacenar los datos de latitud, longitud y precio_medio_en_radio\n",
    "datos = []\n",
    "\n",
    "# Iterar sobre cada celda de la malla para extraer la información\n",
    "for i, lat in enumerate(latitudes):\n",
    "    for j, lon in enumerate(longitudes):\n",
    "        latitud = lat\n",
    "        longitud = lon\n",
    "        datos.append([latitud, longitud])\n",
    "\n",
    "# Crear un DataFrame de Pandas con los datos recopilados\n",
    "df = pd.DataFrame(datos, columns=['Latitud', 'Longitud'])\n",
    "\n",
    "df.head(20)\n"
   ]
  },
  {
   "cell_type": "code",
   "execution_count": null,
   "metadata": {},
   "outputs": [],
   "source": [
    "df['precio_medio_en_cuadrado'] = df.apply(lambda row: precio_medio_en_cuadrado(row['Latitud'], row['Longitud'], 0), axis=1)"
   ]
  },
  {
   "cell_type": "code",
   "execution_count": null,
   "metadata": {},
   "outputs": [],
   "source": [
    "df['precio_por_acc_medio_en_cuadrado'] = df.apply(lambda row: precio_por_acc_medio_en_cuadrado(row['Latitud'], row['Longitud'], 0), axis=1)"
   ]
  },
  {
   "cell_type": "code",
   "execution_count": null,
   "metadata": {},
   "outputs": [],
   "source": [
    "df['precio_medio_en_radio'] = df.apply(lambda row: precio_medio_en_radio(row['Latitud'], row['Longitud'], 0), axis=1)"
   ]
  },
  {
   "cell_type": "code",
   "execution_count": null,
   "metadata": {},
   "outputs": [],
   "source": [
    "df['precio_por_acc_medio_en_radio'] = df.apply(lambda row: precio_por_acc_medio_en_radio(row['Latitud'], row['Longitud'], 0), axis=1)"
   ]
  },
  {
   "cell_type": "code",
   "execution_count": null,
   "metadata": {},
   "outputs": [],
   "source": [
    "df['precio_N_medio_en_radio'] = df.apply(lambda row: precio_N_medio_en_radio(row['Latitud'], row['Longitud'], 0), axis=1)"
   ]
  },
  {
   "cell_type": "code",
   "execution_count": null,
   "metadata": {},
   "outputs": [],
   "source": [
    "df['precio_NMt_medio_en_radio'] = df.apply(lambda row: precio_NMt_medio_en_radio(row['Latitud'], row['Longitud'], 0), axis=1)"
   ]
  },
  {
   "cell_type": "code",
   "execution_count": null,
   "metadata": {},
   "outputs": [],
   "source": [
    "import folium\n",
    "from folium.plugins import HeatMap\n",
    "\n",
    "\n",
    "# Filtrar los datos necesarios y eliminar valores nulos y valores igual a 0\n",
    "heat_data = df[['Latitud', 'Longitud', 'precio_por_acc_medio_en_radio']].loc[df['precio_por_acc_medio_en_radio'] > 0].dropna()\n",
    "\n",
    "# Crear el mapa base centrado en la media de las latitudes y longitudes de tus datos\n",
    "m = folium.Map(location=[heat_data['Latitud'].mean(), heat_data['Longitud'].mean()], tiles='cartodbpositron', zoom_start=12)\n",
    "\n",
    "# Preparar los datos para el HeatMap\n",
    "heat_data_list = heat_data.values.tolist()\n",
    "\n",
    "# Agregar datos de HeatMap al mapa base con escala de colores personalizada de azul a rojo\n",
    "HeatMap(data=heat_data_list, radius=16, max_zoom=13, gradient={0.0: 'blue', 0.3: 'cyan', 0.5: 'white', 0.6: 'yellow', 1.0: 'red'},min_opacity=0.4).add_to(m)\n",
    "\n",
    "# Mostrar el mapa\n",
    "m\n"
   ]
  },
  {
   "cell_type": "code",
   "execution_count": null,
   "metadata": {},
   "outputs": [],
   "source": [
    "import folium\n",
    "from folium.plugins import HeatMap\n",
    "\n",
    "\n",
    "# Filtrar los datos necesarios y eliminar valores nulos y valores igual a 0\n",
    "heat_data = df[['Latitud', 'Longitud', 'precio_NMt_medio_en_radio']].loc[df['precio_NMt_medio_en_radio'] > 0].dropna()\n",
    "\n",
    "# Crear el mapa base centrado en la media de las latitudes y longitudes de tus datos\n",
    "n = folium.Map(location=[heat_data['Latitud'].mean(), heat_data['Longitud'].mean()], tiles='cartodbpositron', zoom_start=12)\n",
    "\n",
    "# Preparar los datos para el HeatMap\n",
    "heat_data_list = heat_data.values.tolist()\n",
    "\n",
    "# Agregar datos de HeatMap al mapa base con escala de colores personalizada de azul a rojo\n",
    "HeatMap(data=heat_data_list, radius=16, max_zoom=13, gradient={0.0: 'blue', 0.3: 'cyan', 0.5: 'white', 0.6: 'yellow', 1.0: 'red'},min_opacity=0.4).add_to(n)\n",
    "\n",
    "# Mostrar el mapa\n",
    "n"
   ]
  },
  {
   "cell_type": "code",
   "execution_count": null,
   "metadata": {},
   "outputs": [],
   "source": [
    "freq = listings['room_type'].value_counts().sort_values(ascending=True)\n",
    "freq.plot.barh(figsize=(15, 3), width=1, color=[\"g\", \"b\", \"r\"])\n",
    "plt.xlabel('Frecuencia')\n",
    "plt.ylabel('Tipo de Habitación')\n",
    "plt.title('Frecuencia de Tipos de Habitación en Listings')\n",
    "plt.show()\n",
    " "
   ]
  },
  {
   "cell_type": "code",
   "execution_count": null,
   "metadata": {},
   "outputs": [],
   "source": [
    "feq = listings_details['accommodates'].value_counts().sort_index()\n",
    "feq.plot.bar(figsize=(10, 8), color='b', width=1, rot=0)\n",
    "plt.title(\"Accommodates (number of people)\", fontsize=20)\n",
    "plt.ylabel('Number of listings', fontsize=12)\n",
    "plt.xlabel('Accommodates', fontsize=12)\n",
    "plt.show()\n",
    " "
   ]
  },
  {
   "cell_type": "code",
   "execution_count": null,
   "metadata": {},
   "outputs": [],
   "source": [
    "import pandas as pd\n",
    "\n",
    "# Lista de días (números pares)\n",
    "dias_pares = range(0, 365, 2)  # Suponiendo que 'dias' contiene los días de tus datos\n",
    "\n",
    "# Crear un DataFrame auxiliar para almacenar los datos generados\n",
    "nuevas_columnas = {}\n",
    "\n",
    "# Generar columnas para cada día múltiplo de tres y guardar en el DataFrame auxiliar\n",
    "for dia in dias_pares:\n",
    "    nombre_col_ppam = f'ppam_{dia}'\n",
    "    nombre_col_pn = f'pNm_{dia}'\n",
    "    nombre_col_pnm = f'pNMtm_{dia}'\n",
    "    \n",
    "    nuevas_columnas[nombre_col_ppam] = df.apply(lambda row: precio_por_acc_medio_en_cuadrado(row['Latitud'], row['Longitud'], dia), axis=1)\n",
    "    nuevas_columnas[nombre_col_pn] = df.apply(lambda row: precio_N_medio_en_cuadrado(row['Latitud'], row['Longitud'], dia), axis=1)\n",
    "    nuevas_columnas[nombre_col_pnm] = df.apply(lambda row: precio_NMt_medio_en_cuadrado(row['Latitud'], row['Longitud'], dia), axis=1)\n",
    "# Crear un DataFrame con las nuevas columnas\n",
    "nuevas_columnas_df = pd.DataFrame(nuevas_columnas)\n",
    "\n",
    "# Combinar el DataFrame original con el DataFrame de las nuevas columnas\n",
    "df = pd.concat([df, nuevas_columnas_df], axis=1)\n",
    "\n"
   ]
  },
  {
   "cell_type": "code",
   "execution_count": null,
   "metadata": {},
   "outputs": [],
   "source": [
    "df.head()"
   ]
  },
  {
   "cell_type": "code",
   "execution_count": null,
   "metadata": {},
   "outputs": [],
   "source": [
    "df.columns\n"
   ]
  },
  {
   "cell_type": "code",
   "execution_count": null,
   "metadata": {},
   "outputs": [],
   "source": [
    "import folium\n",
    "\n",
    "# Definir las rutas de las carpetas de destino\n",
    "carpeta_ppam = 'Mapa_ppam'\n",
    "carpeta_pNm = 'Mapa_pNm'\n",
    "\n",
    "for col in df.columns:\n",
    "    if 'ppam' in col:\n",
    "        carpeta_destino = carpeta_ppam\n",
    "    elif 'pNm' in col:\n",
    "        carpeta_destino = carpeta_pNm\n",
    "    else:\n",
    "        continue\n",
    "\n",
    "    heat_data = df[['Latitud', 'Longitud', col]].loc[df[col] > 0].dropna()\n",
    "\n",
    "    m = folium.Map(location=[heat_data['Latitud'].mean(), heat_data['Longitud'].mean()], tiles='cartodbpositron', zoom_start=12)\n",
    "\n",
    "    heat_data_list = heat_data.values.tolist()\n",
    "\n",
    "    HeatMap(data=heat_data_list, radius=16, max_zoom=13, gradient={0.0: 'blue', 0.3: 'cyan', 0.5: 'white', 0.6: 'yellow', 1.0: 'red'}, min_opacity=0.4).add_to(m)\n",
    "\n",
    "    # Guardar el mapa en la carpeta correspondiente\n",
    "    nombre_mapa = f'mapa_{col}.html'\n",
    "    ruta_mapa = os.path.join(carpeta_destino, nombre_mapa)\n",
    "    m.save(ruta_mapa)\n",
    "\n"
   ]
  },
  {
   "cell_type": "code",
   "execution_count": null,
   "metadata": {},
   "outputs": [],
   "source": [
    "import imageio\n",
    "import os\n",
    "from PIL import Image\n",
    "import numpy as np\n",
    "\n",
    "# Directorio donde se encuentran los archivos PNG de los mapas\n",
    "directorio = 'c:/Users/34699/OneDrive/Escritorio/bootcamp/Modulo2/Proyecto2/Mapa_pNm'\n",
    "\n",
    "# Lista para almacenar los nombres de los archivos PNG\n",
    "archivos_mapas = [nombre_archivo for nombre_archivo in os.listdir(directorio) if nombre_archivo.endswith('.png')]\n",
    "\n",
    "# Ordenar los nombres de los archivos\n",
    "archivos_mapas.sort()\n",
    "\n",
    "# Lista para almacenar las imágenes de los mapas\n",
    "imagenes_mapas = []\n",
    "\n",
    "# Cargar cada imagen PNG y redimensionarlas a un tamaño común\n",
    "ancho_comun = 800\n",
    "alto_comun = 600\n",
    "\n",
    "for nombre_archivo in archivos_mapas:\n",
    "    imagen = imageio.imread(os.path.join(directorio, nombre_archivo))\n",
    "    imagen_redimensionada = Image.fromarray(imagen).resize((ancho_comun, alto_comun))\n",
    "    imagenes_mapas.append(np.asarray(imagen_redimensionada))\n",
    "\n",
    "# Guardar la animación como un video\n",
    "ruta_video_salida = \"animacion_mapas.mp4\"\n",
    "imageio.mimsave(ruta_video_salida, imagenes_mapas, fps=1)  # fps es la velocidad de fotogramas por segundo\n",
    "\n",
    "print(\"Se ha creado la animación de los mapas correctamente.\")\n",
    "\n"
   ]
  },
  {
   "cell_type": "code",
   "execution_count": null,
   "metadata": {},
   "outputs": [],
   "source": [
    "df.to_csv('df_graficos.csv')"
   ]
  },
  {
   "cell_type": "code",
   "execution_count": null,
   "metadata": {},
   "outputs": [],
   "source": [
    "df=pd.read_csv('df_graficos.csv')\n",
    "df=df.drop(columns='Unnamed: 0')\n",
    "df.head()"
   ]
  },
  {
   "cell_type": "code",
   "execution_count": null,
   "metadata": {},
   "outputs": [],
   "source": [
    "import numpy as np\n",
    "import matplotlib.pyplot as plt\n",
    "from mpl_toolkits.mplot3d import Axes3D\n",
    "\n",
    "# Crear la rejilla en 2D\n",
    "x = np.unique(df['Longitud'])\n",
    "y = np.unique(df['Latitud'])\n",
    "X, Y = np.meshgrid(x, y)\n",
    "\n",
    "# Reformatear los valores de la función en una matriz 2D\n",
    "Z = np.array(df['ppam_0']).reshape(len(y), len(x))\n",
    "\n",
    "# Configurar la figura en 3D\n",
    "fig = plt.figure(figsize=(12, 8))\n",
    "ax = fig.add_subplot(111, projection='3d')\n",
    "\n",
    "# Crear el gráfico en 3D de la superficie\n",
    "surf = ax.plot_surface(X, Y, Z, cmap='coolwarm', edgecolor='none')\n",
    "ax.set_xlabel('Longitud')\n",
    "ax.set_ylabel('Latitud')\n",
    "ax.set_zlabel('Valor de la función')\n",
    "ax.set_title('Función evaluada en una malla alrededor de Barcelona')\n",
    "fig.colorbar(surf, shrink=0.5, aspect=5)\n",
    "\n",
    "plt.show()\n",
    "\n"
   ]
  },
  {
   "cell_type": "code",
   "execution_count": null,
   "metadata": {},
   "outputs": [],
   "source": [
    "from scipy.interpolate import RegularGridInterpolator\n",
    "\n",
    "import numpy as np\n",
    "import matplotlib.pyplot as plt\n",
    "from mpl_toolkits.mplot3d import Axes3D\n",
    "\n",
    "# Crear la rejilla en 2D\n",
    "x = np.unique(df['Longitud'])\n",
    "y = np.unique(df['Latitud'])\n",
    "X, Y = np.meshgrid(x, y)\n",
    "\n",
    "# Reformatear los valores de la función en una matriz 2D\n",
    "Z = np.array(df['ppam_0']).reshape(len(y), len(x))\n",
    "# Crear la función interpolada con RegularGridInterpolator usando el método cúbico\n",
    "interp_func = RegularGridInterpolator((y, x), Z, method='cubic')\n",
    "\n",
    "# Crear una malla más densa para una interpolación más suave\n",
    "x_dense = np.linspace(x.min(), x.max(), 400)\n",
    "y_dense = np.linspace(y.min(), y.max(), 400)\n",
    "X_dense, Y_dense = np.meshgrid(x_dense, y_dense)\n",
    "points = np.array([Y_dense.flatten(), X_dense.flatten()]).T\n",
    "Z_dense = interp_func(points).reshape(X_dense.shape)\n",
    "\n",
    "# Graficar el contorno suavizado\n",
    "plt.figure(figsize=(12, 8))\n",
    "plt.contourf(X_dense, Y_dense, Z_dense, cmap='coolwarm', levels=np.linspace(7, 80, 200), extend='max')\n",
    "\n",
    "plt.colorbar()\n",
    "plt.xlabel('Longitud')\n",
    "plt.ylabel('Latitud')\n",
    "plt.title('Función evaluada en una malla suavizada alrededor de Barcelona')\n",
    "plt.show()\n",
    "\n",
    "\n",
    "\n"
   ]
  },
  {
   "cell_type": "code",
   "execution_count": null,
   "metadata": {},
   "outputs": [],
   "source": [
    "from scipy.interpolate import RegularGridInterpolator\n",
    "\n",
    "import numpy as np\n",
    "import matplotlib.pyplot as plt\n",
    "from mpl_toolkits.mplot3d import Axes3D\n",
    "import matplotlib.pyplot as plt\n",
    "import matplotlib.cbook as cbook\n",
    "\n",
    "\n",
    "# Crear la rejilla en 2D\n",
    "x = np.unique(df['Longitud'])\n",
    "y = np.unique(df['Latitud'])\n",
    "X, Y = np.meshgrid(x, y)\n",
    "\n",
    "Z = np.array(df['ppam_0']).reshape(len(y), len(x))\n",
    "# Crear la función interpolada con RegularGridInterpolator usando el método cúbico\n",
    "interp_func = RegularGridInterpolator((y, x), Z, method='cubic')\n",
    "\n",
    "# Crear una malla más densa para una interpolación más suave\n",
    "x_dense = np.linspace(x.min(), x.max(), 400)\n",
    "y_dense = np.linspace(y.min(), y.max(), 400)\n",
    "X_dense, Y_dense = np.meshgrid(x_dense, y_dense)\n",
    "points = np.array([Y_dense.flatten(), X_dense.flatten()]).T\n",
    "Z_dense = interp_func(points).reshape(X_dense.shape)\n",
    "\n",
    "xmin, xmax = x_dense.min(), x_dense.max()\n",
    "ymin, ymax = y_dense.min(), y_dense.max()\n",
    "\n",
    "\n",
    "# Cargar la imagen que deseas usar como fondo\n",
    "img = plt.imread(r\"C:\\Users\\34699\\OneDrive\\Escritorio\\bootcamp\\Modulo2\\Proyecto2\\mapabarcelona.png\")\n",
    "\n",
    "# Ajustar la posición de la imagen de fondo y el gráfico de contorno\n",
    "plt.figure(figsize=(12, 8))\n",
    "plt.imshow(img, extent=[xmin, xmax+0.02, ymin+0.01, ymax])  # Ajusta los valores de desplazamiento según tu preferencia\n",
    "\n",
    "# Ajustar los límites del eje y para recortar desde la latitud 41.35\n",
    "plt.ylim(41.35, ymax)  # Ajusta el límite inferior a la latitud de corte (41.35)\n",
    "\n",
    "# Añadir tu gráfico de contorno encima de la imagen de fondo con transparencia\n",
    "plt.contourf(X_dense, Y_dense, Z_dense, cmap='coolwarm', levels=np.linspace(7, 80, 100), extend='max', alpha=0.15)  # Ajusta el valor de alpha según la transparencia deseada\n",
    "plt.colorbar()\n",
    "plt.xlabel('Longitud')\n",
    "plt.ylabel('Latitud')\n",
    "plt.title('Evolución temporal del precio por ocupante')\n",
    "\n",
    "plt.show()\n"
   ]
  },
  {
   "cell_type": "code",
   "execution_count": null,
   "metadata": {},
   "outputs": [],
   "source": [
    "from scipy.interpolate import RegularGridInterpolator\n",
    "\n",
    "import numpy as np\n",
    "import matplotlib.pyplot as plt\n",
    "from mpl_toolkits.mplot3d import Axes3D\n",
    "import matplotlib.pyplot as plt\n",
    "import matplotlib.cbook as cbook\n",
    "\n",
    "\n",
    "# Crear la rejilla en 2D\n",
    "x = np.unique(df['Longitud'])\n",
    "y = np.unique(df['Latitud'])\n",
    "X, Y = np.meshgrid(x, y)\n",
    "\n",
    "Z = np.array(df['pNm_0']).reshape(len(y), len(x))\n",
    "# Crear la función interpolada con RegularGridInterpolator usando el método cúbico\n",
    "interp_func = RegularGridInterpolator((y, x), Z, method='cubic')\n",
    "\n",
    "# Crear una malla más densa para una interpolación más suave\n",
    "x_dense = np.linspace(x.min(), x.max(), 400)\n",
    "y_dense = np.linspace(y.min(), y.max(), 400)\n",
    "X_dense, Y_dense = np.meshgrid(x_dense, y_dense)\n",
    "points = np.array([Y_dense.flatten(), X_dense.flatten()]).T\n",
    "Z_dense = interp_func(points).reshape(X_dense.shape)\n",
    "\n",
    "xmin, xmax = x_dense.min(), x_dense.max()\n",
    "ymin, ymax = y_dense.min(), y_dense.max()\n",
    "\n",
    "\n",
    "# Cargar la imagen que deseas usar como fondo\n",
    "img = plt.imread(r\"C:\\Users\\34699\\OneDrive\\Escritorio\\bootcamp\\Modulo2\\Proyecto2\\mapabarcelona.png\")\n",
    "\n",
    "# Ajustar la posición de la imagen de fondo y el gráfico de contorno\n",
    "plt.figure(figsize=(12, 8))\n",
    "plt.imshow(img, extent=[xmin, xmax+0.02, ymin+0.01, ymax])  # Ajusta los valores de desplazamiento según tu preferencia\n",
    "\n",
    "# Ajustar los límites del eje y para recortar desde la latitud 41.35\n",
    "plt.ylim(41.35, ymax)  # Ajusta el límite inferior a la latitud de corte (41.35)\n",
    "\n",
    "# Añadir tu gráfico de contorno encima de la imagen de fondo con transparencia\n",
    "plt.contourf(X_dense, Y_dense, Z_dense, cmap='coolwarm', levels=np.linspace(0.4, 1.70, 100), extend='max', alpha=0.15)  # Ajusta el valor de alpha según la transparencia deseada\n",
    "plt.colorbar()\n",
    "plt.xlabel('Longitud')\n",
    "plt.ylabel('Latitud')\n",
    "plt.title('Evolución temporal del precio normalizado')\n",
    "\n",
    "plt.show()\n"
   ]
  },
  {
   "cell_type": "code",
   "execution_count": null,
   "metadata": {},
   "outputs": [],
   "source": [
    "from scipy.interpolate import RegularGridInterpolator\n",
    "\n",
    "import numpy as np\n",
    "import matplotlib.pyplot as plt\n",
    "from mpl_toolkits.mplot3d import Axes3D\n",
    "import matplotlib.pyplot as plt\n",
    "import matplotlib.cbook as cbook\n",
    "\n",
    "\n",
    "# Crear la rejilla en 2D\n",
    "x = np.unique(df['Longitud'])\n",
    "y = np.unique(df['Latitud'])\n",
    "X, Y = np.meshgrid(x, y)\n",
    "\n",
    "Z = np.array(df['pNMtm_0']).reshape(len(y), len(x))\n",
    "# Crear la función interpolada con RegularGridInterpolator usando el método cúbico\n",
    "interp_func = RegularGridInterpolator((y, x), Z, method='cubic')\n",
    "\n",
    "# Crear una malla más densa para una interpolación más suave\n",
    "x_dense = np.linspace(x.min(), x.max(), 400)\n",
    "y_dense = np.linspace(y.min(), y.max(),400)\n",
    "X_dense, Y_dense = np.meshgrid(x_dense, y_dense)\n",
    "points = np.array([Y_dense.flatten(), X_dense.flatten()]).T\n",
    "Z_dense = interp_func(points).reshape(X_dense.shape)\n",
    "\n",
    "xmin, xmax = x_dense.min(), x_dense.max()\n",
    "ymin, ymax = y_dense.min(), y_dense.max()\n",
    "\n",
    "\n",
    "# Cargar la imagen que deseas usar como fondo\n",
    "img = plt.imread(r\"C:\\Users\\34699\\OneDrive\\Escritorio\\bootcamp\\Modulo2\\Proyecto2\\mapabarcelona.png\")\n",
    "\n",
    "# Ajustar la posición de la imagen de fondo y el gráfico de contorno\n",
    "plt.figure(figsize=(12, 8))\n",
    "plt.imshow(img, extent=[xmin, xmax+0.02, ymin+0.01, ymax])  # Ajusta los valores de desplazamiento según tu preferencia\n",
    "\n",
    "# Ajustar los límites del eje y para recortar desde la latitud 41.35\n",
    "plt.ylim(41.35, ymax)  # Ajusta el límite inferior a la latitud de corte (41.35)\n",
    "\n",
    "# Añadir tu gráfico de contorno encima de la imagen de fondo con transparencia\n",
    "plt.contourf(X_dense, Y_dense, Z_dense, cmap='coolwarm', levels=np.linspace(0.4, 1.75, 100), extend='max', alpha=0.3)  # Ajusta el valor de alpha según la transparencia deseada\n",
    "plt.colorbar()\n",
    "plt.xlabel('Longitud')\n",
    "plt.ylabel('Latitud')\n",
    "plt.title('Evolución temporal del Precio NMt')\n",
    "\n",
    "plt.show()"
   ]
  },
  {
   "cell_type": "code",
   "execution_count": null,
   "metadata": {},
   "outputs": [],
   "source": [
    "df.columns"
   ]
  },
  {
   "cell_type": "code",
   "execution_count": null,
   "metadata": {},
   "outputs": [],
   "source": [
    "import os\n",
    "import calendar\n",
    "\n",
    "# Definir la fecha de inicio correspondiente al día 0\n",
    "fecha_inicio = pd.Timestamp('2023-06-10')\n",
    "\n",
    "# Crear carpetas para guardar los gráficos si no existen\n",
    "os.makedirs('Mapa_ppam', exist_ok=True)\n",
    "os.makedirs('Mapa_pNm', exist_ok=True)\n",
    "os.makedirs('Mapa_pNMtm', exist_ok=True)\n",
    "\n",
    "# Definir los nombres de los meses en español\n",
    "meses_espanol = ['enero', 'febrero', 'marzo', 'abril', 'mayo', 'junio', 'julio', 'agosto', 'septiembre', 'octubre', 'noviembre', 'diciembre']\n",
    "\n",
    "titulos = {\n",
    "    'ppam_': 'Evolución temporal del precio por ocupante',\n",
    "    'pNm_': 'Evolución temporal del precio normalizado',\n",
    "    'pNMtm_': 'Evolución temporal del Precio NMt'\n",
    "}\n",
    "\n",
    "for prefix, color_limits, img_extent in [('ppam_', (7, 80), [xmin, xmax+0.02, ymin+0.01, ymax]),\n",
    "                                         ('pNm_', (0.4, 1.7), [xmin, xmax+0.02, ymin+0.01, ymax]),\n",
    "                                         ('pNMtm_', (0.35, 1.8), [xmin, xmax+0.02, ymin+0.01, ymax])]:\n",
    "\n",
    "    for i in range(0,365,2):  # Iterar sobre las primeras 10 columnas\n",
    "        col_name = prefix + str(i)\n",
    "        \n",
    "        # Calcular la fecha correspondiente al día en la columna\n",
    "        fecha_col = fecha_inicio + pd.DateOffset(days=i)\n",
    "        mes_idx = fecha_col.month - 1  # Índice del mes en la lista de meses\n",
    "        month_name_es = meses_espanol[mes_idx]  # Obtener el nombre del mes en español\n",
    "        \n",
    "        # Resto de tu código para generar y guardar el gráfico\n",
    "        x = np.unique(df['Longitud'])\n",
    "        y = np.unique(df['Latitud'])\n",
    "        X, Y = np.meshgrid(x, y)\n",
    "        \n",
    "        Z = np.array(df[col_name]).reshape(len(y), len(x))\n",
    "        interp_func = RegularGridInterpolator((y, x), Z, method='cubic')\n",
    "        \n",
    "        x_dense = np.linspace(x.min(), x.max(), 400)\n",
    "        y_dense = np.linspace(y.min(), y.max(), 400)\n",
    "        X_dense, Y_dense = np.meshgrid(x_dense, y_dense)\n",
    "        points = np.array([Y_dense.flatten(), X_dense.flatten()]).T\n",
    "        Z_dense = interp_func(points).reshape(X_dense.shape)\n",
    "        \n",
    "        # Resto de tu código para graficar\n",
    "        img = plt.imread(r\"C:\\Users\\34699\\OneDrive\\Escritorio\\bootcamp\\Modulo2\\Proyecto2\\mapabarcelona.png\")\n",
    "        plt.figure(figsize=(12, 8))\n",
    "        plt.imshow(img, extent=img_extent)  # Utilizando los límites relativos de la imagen\n",
    "\n",
    "        plt.ylim(41.35, y.max())  # Ajustando el límite en y según tu preferencia\n",
    "        \n",
    "        plt.contourf(X_dense, Y_dense, Z_dense, cmap='coolwarm', levels=np.linspace(*color_limits, 100), extend='max', alpha=0.3)\n",
    "        plt.colorbar()\n",
    "        plt.xlabel('Longitud')\n",
    "        plt.ylabel('Latitud')\n",
    "        plt.title(titulos[prefix])\n",
    "        plt.suptitle(f'{month_name_es.capitalize()} de {fecha_col.year}')  # Añadir el subtítulo con el nombre del mes y el año en español\n",
    "\n",
    "        if prefix == 'ppam_':\n",
    "            plt.savefig(f'Mapa_ppam/{col_name}.png')\n",
    "        elif prefix == 'pNm_':\n",
    "            plt.savefig(f'Mapa_pNm/{col_name}.png')\n",
    "        else:  # prefix == 'pNMtm_'\n",
    "            plt.savefig(f'Mapa_pNMtm/{col_name}.png')\n",
    "        \n",
    "        plt.close()  # Cerrar la figura para liberar memoria\n"
   ]
  },
  {
   "cell_type": "code",
   "execution_count": null,
   "metadata": {},
   "outputs": [],
   "source": [
    "import imageio\n",
    "import os\n",
    "from PIL import Image\n",
    "import numpy as np\n",
    "\n",
    "def generar_animacion(nombre_carpeta):\n",
    "    # Directorio donde se encuentran los archivos PNG de los mapas\n",
    "    directorio = f'c:/Users/34699/OneDrive/Escritorio/bootcamp/Modulo2/Proyecto2/{nombre_carpeta}'\n",
    "\n",
    "    # Lista para almacenar los nombres de los archivos PNG\n",
    "    archivos_mapas = [nombre_archivo for nombre_archivo in os.listdir(directorio) if nombre_archivo.endswith('.png')]\n",
    "\n",
    "    # Ordenar los nombres de los archivos\n",
    "    archivos_mapas.sort()\n",
    "\n",
    "    # Lista para almacenar las imágenes de los mapas\n",
    "    imagenes_mapas = []\n",
    "\n",
    "    # Cargar cada imagen PNG y redimensionarlas a un tamaño común\n",
    "    ancho_comun = 800\n",
    "    alto_comun = 600\n",
    "\n",
    "    for nombre_archivo in archivos_mapas:\n",
    "        imagen = imageio.imread(os.path.join(directorio, nombre_archivo))\n",
    "        imagen_redimensionada = Image.fromarray(imagen).resize((ancho_comun, alto_comun))\n",
    "        imagenes_mapas.append(np.asarray(imagen_redimensionada))\n",
    "\n",
    "    # Guardar la animación como un video (ahora con 6 fotogramas por segundo)\n",
    "    ruta_video_salida = f\"animacion_{nombre_carpeta}.mp4\"\n",
    "    imageio.mimsave(ruta_video_salida, imagenes_mapas, fps=6)  # Cambiar fps a 6 para 6 fotogramas por segundo\n",
    "\n",
    "    print(f\"Se ha creado la animación de los mapas en la carpeta {nombre_carpeta} correctamente.\")\n",
    "\n",
    "# Generar animación para cada carpeta con 6 fotogramas por segundo\n",
    "generar_animacion('Mapa_ppam')\n",
    "generar_animacion('Mapa_pNm')\n",
    "generar_animacion('Mapa_pNMtm')\n"
   ]
  },
  {
   "cell_type": "code",
   "execution_count": null,
   "metadata": {},
   "outputs": [],
   "source": []
  }
 ],
 "metadata": {
  "kernelspec": {
   "display_name": "Python 3",
   "language": "python",
   "name": "python3"
  },
  "language_info": {
   "codemirror_mode": {
    "name": "ipython",
    "version": 3
   },
   "file_extension": ".py",
   "mimetype": "text/x-python",
   "name": "python",
   "nbconvert_exporter": "python",
   "pygments_lexer": "ipython3",
   "version": "3.11.9"
  }
 },
 "nbformat": 4,
 "nbformat_minor": 2
}
